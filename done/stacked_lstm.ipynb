{
 "cells": [
  {
   "cell_type": "code",
   "execution_count": 1,
   "metadata": {},
   "outputs": [
    {
     "name": "stderr",
     "output_type": "stream",
     "text": [
      "Using TensorFlow backend.\n"
     ]
    }
   ],
   "source": [
    "import pymysql\n",
    "import numpy as np\n",
    "%matplotlib inline\n",
    "import matplotlib.pyplot as plt\n",
    "from sklearn.preprocessing import MinMaxScaler\n",
    "from keras.models import Sequential, Model\n",
    "from keras.layers import Dense, LSTM, Dropout"
   ]
  },
  {
   "cell_type": "code",
   "execution_count": 2,
   "metadata": {},
   "outputs": [],
   "source": [
    "_host = '168.131.39.95'\n",
    "_port = 3306\n",
    "_user = 'root'\n",
    "_passwd = 'jslab0963'\n",
    "_db = 'TYP'\n",
    "db = pymysql.connect(host=_host, port=_port, user=_user, passwd=_passwd, db=_db, charset= 'utf8')\n",
    "cursor = db.cursor()\n",
    "typ_name = ['CHABA2', 'CHANHOM', 'GONI', 'HALOLA', 'HALONG', 'KONGREY2', 'MALAKAS', 'NAKRI2', 'NANGKA', 'NANMADOL', 'NEOGURI',\n",
    "           'NORU', 'PRAPIROON', 'RUMBIA', 'SOULIK', 'TALIM', 'TRAMI', 'VONGFONG']"
   ]
  },
  {
   "cell_type": "code",
   "execution_count": 3,
   "metadata": {},
   "outputs": [
    {
     "name": "stdout",
     "output_type": "stream",
     "text": [
      "[[110, Decimal('26.000'), Decimal('29.000')], [115, Decimal('29.000'), Decimal('29.400')], [135, Decimal('29.000'), Decimal('29.400')], [145, Decimal('23.000'), Decimal('29.500')], [145, Decimal('26.000'), Decimal('29.500')], [150, Decimal('27.000'), Decimal('29.500')], [160, Decimal('27.000'), Decimal('29.500')], [175, Decimal('26.000'), Decimal('29.100')], [145, Decimal('30.000'), Decimal('29.500')], [190, Decimal('25.000'), Decimal('28.700')], [165, Decimal('25.000'), Decimal('28.600')], [165, Decimal('27.000'), Decimal('29.000')], [170, Decimal('35.000'), Decimal('29.400')], [170, Decimal('44.000'), Decimal('28.700')], [190, Decimal('56.000'), Decimal('28.900')], [215, Decimal('61.000'), Decimal('28.600')], [210, Decimal('56.000'), Decimal('28.900')], [215, Decimal('57.000'), Decimal('29.200')], [205, Decimal('55.000'), Decimal('29.000')], [205, Decimal('52.000'), Decimal('29.200')], [185, Decimal('50.000'), Decimal('29.100')], [205, Decimal('56.000'), Decimal('29.100')], [200, Decimal('47.000'), Decimal('28.700')], [195, Decimal('49.000'), Decimal('29.000')], [195, Decimal('61.000'), Decimal('29.000')], [205, Decimal('59.000'), Decimal('29.000')], [220, Decimal('56.000'), Decimal('28.800')], [220, Decimal('72.000'), Decimal('28.800')], [235, Decimal('82.000'), Decimal('29.000')], [240, Decimal('62.000'), Decimal('29.100')], [225, Decimal('54.000'), Decimal('28.400')], [235, Decimal('42.000'), Decimal('28.200')], [250, Decimal('37.000'), Decimal('28.200')], [245, Decimal('40.000'), Decimal('28.100')], [275, Decimal('46.000'), Decimal('27.500')], [280, Decimal('39.000'), Decimal('26.800')], [295, Decimal('42.000'), Decimal('26.100')], [300, Decimal('39.000'), Decimal('25.700')], [290, Decimal('23.000'), Decimal('23.700')], [290, Decimal('23.000'), Decimal('23.300')], [360, Decimal('8.000'), Decimal('21.500')], [330, Decimal('15.000'), Decimal('21.700')], [310, Decimal('26.000'), Decimal('20.000')], [330, Decimal('28.000'), Decimal('15.400')], [55, Decimal('27.000'), Decimal('28.100')], [245, Decimal('2.000'), Decimal('27.900')], [240, Decimal('42.000'), Decimal('28.100')], [230, Decimal('44.000'), Decimal('28.300')], [210, Decimal('32.000'), Decimal('28.500')], [220, Decimal('37.000'), Decimal('28.600')], [185, Decimal('42.000'), Decimal('28.600')], [160, Decimal('41.000'), Decimal('29.200')], [130, Decimal('39.000'), Decimal('29.000')], [170, Decimal('33.000'), Decimal('29.300')], [175, Decimal('92.000'), Decimal('28.600')], [260, Decimal('72.000'), Decimal('27.900')], [260, Decimal('49.000'), Decimal('28.000')], [235, Decimal('42.000'), Decimal('28.900')], [230, Decimal('60.000'), Decimal('28.900')], [210, Decimal('44.000'), Decimal('29.100')], [170, Decimal('44.000'), Decimal('28.900')], [175, Decimal('38.000'), Decimal('29.000')], [185, Decimal('52.000'), Decimal('29.000')], [235, Decimal('54.000'), Decimal('28.400')], [220, Decimal('60.000'), Decimal('29.100')], [200, Decimal('58.000'), Decimal('29.300')], [190, Decimal('83.000'), Decimal('28.600')], [185, Decimal('63.000'), Decimal('29.000')], [180, Decimal('86.000'), Decimal('29.000')], [170, Decimal('82.000'), Decimal('29.400')], [175, Decimal('92.000'), Decimal('28.900')], [180, Decimal('102.000'), Decimal('29.100')], [180, Decimal('121.000'), Decimal('29.700')], [195, Decimal('123.000'), Decimal('30.100')], [195, Decimal('130.000'), Decimal('29.400')], [205, Decimal('105.000'), Decimal('29.600')], [195, Decimal('109.000'), Decimal('29.700')], [190, Decimal('109.000'), Decimal('29.700')], [195, Decimal('105.000'), Decimal('29.400')], [205, Decimal('111.000'), Decimal('30.000')], [195, Decimal('101.000'), Decimal('29.900')], [195, Decimal('98.000'), Decimal('30.000')], [200, Decimal('106.000'), Decimal('30.100')], [215, Decimal('105.000'), Decimal('30.000')], [205, Decimal('90.000'), Decimal('28.500')], [200, Decimal('108.000'), Decimal('28.000')], [225, Decimal('90.000'), Decimal('27.300')], [220, Decimal('84.000'), Decimal('26.700')], [230, Decimal('62.000'), Decimal('25.700')], [240, Decimal('54.000'), Decimal('24.800')], [240, Decimal('43.000'), Decimal('24.600')], [245, Decimal('59.000'), Decimal('24.400')], [240, Decimal('55.000'), Decimal('24.100')], [250, Decimal('57.000'), Decimal('24.500')], [255, Decimal('49.000'), Decimal('23.600')], [285, Decimal('52.000'), Decimal('23.200')], [275, Decimal('53.000'), Decimal('23.400')], [285, Decimal('42.000'), Decimal('23.700')], [270, Decimal('36.000'), Decimal('23.600')], [280, Decimal('37.000'), Decimal('24.000')], [300, Decimal('40.000'), Decimal('22.400')], [275, Decimal('24.000'), Decimal('22.100')], [305, Decimal('15.000'), Decimal('23.100')], [215, Decimal('34.000'), Decimal('27.800')], [170, Decimal('23.000'), Decimal('28.300')], [195, Decimal('52.000'), Decimal('28.200')], [210, Decimal('58.000'), Decimal('28.100')], [200, Decimal('52.000'), Decimal('28.300')], [220, Decimal('62.000'), Decimal('28.600')], [215, Decimal('59.000'), Decimal('28.500')], [200, Decimal('66.000'), Decimal('28.700')], [230, Decimal('69.000'), Decimal('28.500')], [205, Decimal('80.000'), Decimal('28.900')], [190, Decimal('74.000'), Decimal('28.500')], [180, Decimal('80.000'), Decimal('28.900')], [180, Decimal('76.000'), Decimal('29.300')], [175, Decimal('68.000'), Decimal('29.400')], [170, Decimal('72.000'), Decimal('29.100')], [170, Decimal('57.000'), Decimal('29.700')], [180, Decimal('59.000'), Decimal('29.100')], [165, Decimal('61.000'), Decimal('29.300')], [165, Decimal('62.000'), Decimal('29.300')], [160, Decimal('63.000'), Decimal('30.000')], [160, Decimal('77.000'), Decimal('29.400')], [155, Decimal('80.000'), Decimal('29.000')], [155, Decimal('93.000'), Decimal('30.000')], [155, Decimal('95.000'), Decimal('29.600')], [155, Decimal('140.000'), Decimal('29.000')], [180, Decimal('125.000'), Decimal('29.200')], [175, Decimal('135.000'), Decimal('29.400')], [170, Decimal('127.000'), Decimal('28.800')], [185, Decimal('123.000'), Decimal('28.900')], [180, Decimal('122.000'), Decimal('28.800')], [250, Decimal('24.000'), Decimal('29.900')], [255, Decimal('89.000'), Decimal('29.400')], [260, Decimal('102.000'), Decimal('29.700')], [260, Decimal('103.000'), Decimal('29.400')], [260, Decimal('87.000'), Decimal('28.600')], [235, Decimal('87.000'), Decimal('28.700')], [250, Decimal('64.000'), Decimal('29.000')], [280, Decimal('71.000'), Decimal('28.700')], [290, Decimal('69.000'), Decimal('28.500')], [275, Decimal('93.000'), Decimal('28.500')], [280, Decimal('60.000'), Decimal('29.100')], [270, Decimal('63.000'), Decimal('29.500')], [250, Decimal('60.000'), Decimal('29.600')], [245, Decimal('58.000'), Decimal('29.100')], [240, Decimal('61.000'), Decimal('29.300')], [265, Decimal('30.000'), Decimal('28.200')], [265, Decimal('37.000'), Decimal('27.500')], [270, Decimal('18.000'), Decimal('23.700')], [270, Decimal('44.000'), Decimal('24.200')], [295, Decimal('76.000'), Decimal('24.800')], [300, Decimal('90.000'), Decimal('23.800')], [310, Decimal('80.000'), Decimal('24.100')], [300, Decimal('76.000'), Decimal('23.700')], [300, Decimal('65.000'), Decimal('23.300')], [295, Decimal('59.000'), Decimal('23.100')], [305, Decimal('67.000'), Decimal('22.000')], [175, Decimal('53.000'), Decimal('28.000')], [180, Decimal('37.000'), Decimal('28.100')], [170, Decimal('35.000'), Decimal('28.200')], [160, Decimal('36.000'), Decimal('28.600')], [145, Decimal('38.000'), Decimal('28.800')], [155, Decimal('41.000'), Decimal('28.700')], [135, Decimal('51.000'), Decimal('28.300')], [190, Decimal('65.000'), Decimal('28.500')], [125, Decimal('51.000'), Decimal('28.400')], [120, Decimal('42.000'), Decimal('28.100')], [130, Decimal('36.000'), Decimal('28.400')], [110, Decimal('32.000'), Decimal('28.200')], [115, Decimal('43.000'), Decimal('28.100')], [105, Decimal('48.000'), Decimal('28.400')], [95, Decimal('35.000'), Decimal('28.000')], [100, Decimal('33.000'), Decimal('28.200')], [115, Decimal('35.000'), Decimal('28.600')], [120, Decimal('43.000'), Decimal('28.800')], [140, Decimal('46.000'), Decimal('28.600')], [135, Decimal('32.000'), Decimal('28.500')], [130, Decimal('42.000'), Decimal('27.800')], [120, Decimal('39.000'), Decimal('28.700')], [130, Decimal('30.000'), Decimal('28.500')], [165, Decimal('39.000'), Decimal('28.800')], [160, Decimal('49.000'), Decimal('28.600')], [180, Decimal('47.000'), Decimal('28.900')], [165, Decimal('50.000'), Decimal('28.500')], [170, Decimal('53.000'), Decimal('28.500')], [160, Decimal('51.000'), Decimal('28.800')], [165, Decimal('49.000'), Decimal('28.400')], [165, Decimal('47.000'), Decimal('28.800')], [170, Decimal('54.000'), Decimal('28.900')], [155, Decimal('69.000'), Decimal('29.000')], [170, Decimal('72.000'), Decimal('28.200')], [170, Decimal('75.000'), Decimal('27.700')], [175, Decimal('81.000'), Decimal('27.600')], [175, Decimal('89.000'), Decimal('27.600')], [160, Decimal('84.000'), Decimal('27.900')], [170, Decimal('95.000'), Decimal('27.700')], [160, Decimal('87.000'), Decimal('28.000')], [160, Decimal('102.000'), Decimal('27.900')], [175, Decimal('98.000'), Decimal('27.800')], [170, Decimal('85.000'), Decimal('27.400')], [200, Decimal('94.000'), Decimal('27.700')], [215, Decimal('91.000'), Decimal('27.200')], [215, Decimal('80.000'), Decimal('27.200')], [225, Decimal('69.000'), Decimal('28.700')], [225, Decimal('71.000'), Decimal('28.600')], [235, Decimal('58.000'), Decimal('27.600')], [235, Decimal('53.000'), Decimal('28.100')], [245, Decimal('31.000'), Decimal('27.400')], [250, Decimal('18.000'), Decimal('26.900')], [250, Decimal('13.000'), Decimal('26.500')], [235, Decimal('16.000'), Decimal('25.900')], [215, Decimal('14.000'), Decimal('23.800')], [260, Decimal('17.000'), Decimal('26.100')], [230, Decimal('55.000'), Decimal('28.500')], [245, Decimal('64.000'), Decimal('28.800')], [225, Decimal('51.000'), Decimal('28.800')], [220, Decimal('42.000'), Decimal('29.000')], [220, Decimal('41.000'), Decimal('28.500')], [175, Decimal('47.000'), Decimal('28.300')], [195, Decimal('53.000'), Decimal('28.400')], [175, Decimal('54.000'), Decimal('28.800')], [165, Decimal('87.000'), Decimal('27.900')], [120, Decimal('81.000'), Decimal('28.600')], [140, Decimal('81.000'), Decimal('28.800')], [135, Decimal('91.000'), Decimal('28.200')], [175, Decimal('80.000'), Decimal('28.400')], [165, Decimal('76.000'), Decimal('28.500')], [160, Decimal('84.000'), Decimal('28.800')], [150, Decimal('133.000'), Decimal('27.800')], [165, Decimal('117.000'), Decimal('28.400')], [155, Decimal('128.000'), Decimal('28.600')], [175, Decimal('175.000'), Decimal('27.700')], [170, Decimal('124.000'), Decimal('28.100')], [180, Decimal('112.000'), Decimal('28.200')], [190, Decimal('124.000'), Decimal('28.200')], [185, Decimal('134.000'), Decimal('28.400')], [190, Decimal('126.000'), Decimal('28.200')], [210, Decimal('110.000'), Decimal('28.200')], [215, Decimal('138.000'), Decimal('28.100')], [225, Decimal('126.000'), Decimal('28.100')], [230, Decimal('111.000'), Decimal('28.100')], [240, Decimal('106.000'), Decimal('28.300')], [240, Decimal('108.000'), Decimal('28.100')], [240, Decimal('129.000'), Decimal('28.300')], [260, Decimal('109.000'), Decimal('28.500')], [270, Decimal('93.000'), Decimal('28.700')], [275, Decimal('100.000'), Decimal('28.900')], [270, Decimal('101.000'), Decimal('28.800')], [260, Decimal('90.000'), Decimal('28.600')], [245, Decimal('98.000'), Decimal('28.800')], [245, Decimal('80.000'), Decimal('28.800')], [235, Decimal('83.000'), Decimal('28.700')], [250, Decimal('89.000'), Decimal('28.900')], [235, Decimal('86.000'), Decimal('28.800')], [245, Decimal('77.000'), Decimal('28.600')], [265, Decimal('88.000'), Decimal('28.500')], [265, Decimal('87.000'), Decimal('28.100')], [255, Decimal('75.000'), Decimal('28.200')], [250, Decimal('66.000'), Decimal('27.800')], [245, Decimal('49.000'), Decimal('27.000')], [250, Decimal('36.000'), Decimal('27.800')], [240, Decimal('10.000'), Decimal('25.200')], [225, Decimal('28.000'), Decimal('26.100')], [225, Decimal('59.000'), Decimal('26.100')], [280, Decimal('49.000'), Decimal('22.300')], [135, Decimal('24.000'), Decimal('19.700')], [185, Decimal('27.000'), Decimal('28.300')], [175, Decimal('31.000'), Decimal('28.200')], [165, Decimal('30.000'), Decimal('28.400')], [145, Decimal('36.000'), Decimal('28.500')], [165, Decimal('34.000'), Decimal('28.500')], [160, Decimal('32.000'), Decimal('28.400')], [190, Decimal('62.000'), Decimal('28.600')], [205, Decimal('71.000'), Decimal('28.700')], [195, Decimal('68.000'), Decimal('28.800')], [190, Decimal('107.000'), Decimal('28.700')], [190, Decimal('85.000'), Decimal('29.100')], [210, Decimal('102.000'), Decimal('29.100')], [190, Decimal('96.000'), Decimal('28.600')], [200, Decimal('97.000'), Decimal('28.300')], [180, Decimal('113.000'), Decimal('28.500')], [190, Decimal('112.000'), Decimal('28.300')], [190, Decimal('111.000'), Decimal('27.900')], [185, Decimal('101.000'), Decimal('27.500')], [200, Decimal('108.000'), Decimal('27.700')], [205, Decimal('104.000'), Decimal('27.500')], [210, Decimal('98.000'), Decimal('27.500')], [210, Decimal('89.000'), Decimal('27.100')], [220, Decimal('82.000'), Decimal('27.500')], [220, Decimal('73.000'), Decimal('27.500')], [220, Decimal('76.000'), Decimal('27.500')], [230, Decimal('77.000'), Decimal('27.800')], [240, Decimal('86.000'), Decimal('27.400')], [260, Decimal('79.000'), Decimal('26.100')], [270, Decimal('76.000'), Decimal('25.100')], [270, Decimal('76.000'), Decimal('24.800')], [280, Decimal('66.000'), Decimal('24.300')], [285, Decimal('47.000'), Decimal('23.800')], [295, Decimal('54.000'), Decimal('23.200')], [285, Decimal('47.000'), Decimal('22.300')], [285, Decimal('30.000'), Decimal('21.300')], [325, Decimal('6.000'), Decimal('17.800')], [325, Decimal('36.000'), Decimal('21.100')], [320, Decimal('33.000'), Decimal('19.800')], [315, Decimal('34.000'), Decimal('19.000')], [310, Decimal('30.000'), Decimal('16.900')], [300, Decimal('39.000'), Decimal('16.100')], [150, Decimal('29.000'), Decimal('28.700')], [155, Decimal('37.000'), Decimal('28.900')], [160, Decimal('28.000'), Decimal('28.500')], [145, Decimal('33.000'), Decimal('28.200')], [145, Decimal('47.000'), Decimal('27.900')], [145, Decimal('50.000'), Decimal('27.800')], [150, Decimal('59.000'), Decimal('28.000')], [140, Decimal('51.000'), Decimal('28.900')], [155, Decimal('54.000'), Decimal('28.900')], [155, Decimal('59.000'), Decimal('29.000')], [170, Decimal('57.000'), Decimal('29.400')], [170, Decimal('52.000'), Decimal('29.600')], [180, Decimal('62.000'), Decimal('29.600')], [185, Decimal('53.000'), Decimal('29.500')], [185, Decimal('59.000'), Decimal('29.600')], [195, Decimal('62.000'), Decimal('29.300')], [205, Decimal('63.000'), Decimal('29.200')], [215, Decimal('70.000'), Decimal('28.600')], [210, Decimal('81.000'), Decimal('28.900')], [200, Decimal('56.000'), Decimal('29.100')], [190, Decimal('46.000'), Decimal('28.300')], [260, Decimal('80.000'), Decimal('28.100')], [270, Decimal('97.000'), Decimal('27.400')], [305, Decimal('71.000'), Decimal('26.800')], [305, Decimal('74.000'), Decimal('27.000')], [310, Decimal('79.000'), Decimal('27.600')], [310, Decimal('63.000'), Decimal('27.800')], [310, Decimal('57.000'), Decimal('28.100')], [320, Decimal('55.000'), Decimal('28.300')], [325, Decimal('58.000'), Decimal('27.600')], [325, Decimal('53.000'), Decimal('26.100')], [305, Decimal('42.000'), Decimal('25.900')], [275, Decimal('13.000'), Decimal('26.900')], [340, Decimal('39.000'), Decimal('25.800')], [340, Decimal('28.000'), Decimal('26.300')], [320, Decimal('5.000'), Decimal('18.000')], [10, Decimal('4.000'), Decimal('17.500')], [235, Decimal('70.000'), Decimal('28.600')], [250, Decimal('58.000'), Decimal('28.200')], [150, Decimal('23.000'), Decimal('28.300')], [145, Decimal('16.000'), Decimal('28.900')], [215, Decimal('9.000'), Decimal('28.900')], [285, Decimal('42.000'), Decimal('29.000')], [275, Decimal('40.000'), Decimal('29.400')], [250, Decimal('36.000'), Decimal('29.500')], [230, Decimal('68.000'), Decimal('29.500')], [205, Decimal('69.000'), Decimal('29.500')], [230, Decimal('58.000'), Decimal('29.100')], [240, Decimal('68.000'), Decimal('28.800')], [235, Decimal('62.000'), Decimal('28.500')], [230, Decimal('60.000'), Decimal('28.000')], [225, Decimal('59.000'), Decimal('27.700')], [215, Decimal('60.000'), Decimal('27.100')], [230, Decimal('51.000'), Decimal('26.600')], [225, Decimal('32.000'), Decimal('26.100')], [245, Decimal('35.000'), Decimal('25.700')], [265, Decimal('45.000'), Decimal('25.400')], [260, Decimal('45.000'), Decimal('25.100')], [260, Decimal('34.000'), Decimal('24.800')], [280, Decimal('22.000'), Decimal('24.600')], [320, Decimal('18.000'), Decimal('24.300')], [320, Decimal('28.000'), Decimal('23.900')], [315, Decimal('21.000'), Decimal('23.800')], [305, Decimal('20.000'), Decimal('23.800')], [235, Decimal('35.000'), Decimal('28.000')], [235, Decimal('37.000'), Decimal('27.600')], [175, Decimal('43.000'), Decimal('27.900')], [240, Decimal('48.000'), Decimal('28.600')], [185, Decimal('49.000'), Decimal('28.700')], [155, Decimal('39.000'), Decimal('28.600')], [165, Decimal('48.000'), Decimal('28.500')], [140, Decimal('49.000'), Decimal('28.600')], [145, Decimal('55.000'), Decimal('28.200')], [160, Decimal('38.000'), Decimal('27.900')], [185, Decimal('54.000'), Decimal('28.400')], [185, Decimal('44.000'), Decimal('29.000')], [165, Decimal('50.000'), Decimal('28.500')], [165, Decimal('55.000'), Decimal('28.500')], [180, Decimal('44.000'), Decimal('28.600')], [190, Decimal('61.000'), Decimal('28.600')], [165, Decimal('73.000'), Decimal('28.800')], [180, Decimal('51.000'), Decimal('29.000')], [170, Decimal('78.000'), Decimal('28.600')], [165, Decimal('62.000'), Decimal('28.700')], [150, Decimal('71.000'), Decimal('29.100')], [180, Decimal('78.000'), Decimal('28.700')], [170, Decimal('67.000'), Decimal('28.700')], [175, Decimal('67.000'), Decimal('28.700')], [180, Decimal('87.000'), Decimal('29.000')], [160, Decimal('81.000'), Decimal('28.700')], [160, Decimal('106.000'), Decimal('27.900')], [160, Decimal('124.000'), Decimal('27.600')], [165, Decimal('114.000'), Decimal('27.500')], [155, Decimal('124.000'), Decimal('28.000')], [190, Decimal('119.000'), Decimal('27.800')], [175, Decimal('104.000'), Decimal('27.200')], [170, Decimal('74.000'), Decimal('27.100')], [170, Decimal('131.000'), Decimal('26.600')], [175, Decimal('117.000'), Decimal('27.100')], [175, Decimal('86.000'), Decimal('26.800')], [255, Decimal('76.000'), Decimal('26.800')], [250, Decimal('107.000'), Decimal('27.200')], [235, Decimal('94.000'), Decimal('27.000')], [240, Decimal('92.000'), Decimal('27.600')], [230, Decimal('112.000'), Decimal('27.500')], [235, Decimal('101.000'), Decimal('27.900')], [235, Decimal('108.000'), Decimal('28.300')], [245, Decimal('106.000'), Decimal('28.500')], [250, Decimal('101.000'), Decimal('29.200')], [235, Decimal('110.000'), Decimal('29.500')], [235, Decimal('93.000'), Decimal('29.300')], [245, Decimal('81.000'), Decimal('29.200')], [235, Decimal('82.000'), Decimal('29.000')], [220, Decimal('87.000'), Decimal('29.000')], [215, Decimal('93.000'), Decimal('28.300')], [235, Decimal('83.000'), Decimal('28.000')], [230, Decimal('79.000'), Decimal('27.700')], [215, Decimal('72.000'), Decimal('27.800')], [220, Decimal('58.000'), Decimal('27.200')], [185, Decimal('13.000'), Decimal('19.100')], [185, Decimal('9.000'), Decimal('20.400')], [225, Decimal('21.000'), Decimal('22.300')], [330, Decimal('12.000'), Decimal('23.300')], [250, Decimal('37.000'), Decimal('23.000')], [150, Decimal('34.000'), Decimal('30.000')], [165, Decimal('31.000'), Decimal('30.000')], [170, Decimal('23.000'), Decimal('30.100')], [190, Decimal('25.000'), Decimal('29.300')], [210, Decimal('34.000'), Decimal('28.200')], [220, Decimal('20.000'), Decimal('29.600')], [210, Decimal('19.000'), Decimal('28.800')], [225, Decimal('28.000'), Decimal('27.500')], [225, Decimal('26.000'), Decimal('26.100')], [240, Decimal('30.000'), Decimal('26.500')], [225, Decimal('18.000'), Decimal('26.100')], [255, Decimal('14.000'), Decimal('25.700')], [270, Decimal('39.000'), Decimal('25.300')], [280, Decimal('18.000'), Decimal('24.100')], [215, Decimal('81.000'), Decimal('29.100')], [210, Decimal('94.000'), Decimal('29.300')], [200, Decimal('82.000'), Decimal('29.300')], [190, Decimal('92.000'), Decimal('29.300')], [185, Decimal('97.000'), Decimal('29.800')], [190, Decimal('99.000'), Decimal('29.900')], [185, Decimal('102.000'), Decimal('29.800')], [180, Decimal('94.000'), Decimal('29.900')], [185, Decimal('112.000'), Decimal('30.000')], [190, Decimal('112.000'), Decimal('30.100')], [190, Decimal('121.000'), Decimal('30.000')], [200, Decimal('110.000'), Decimal('30.000')], [210, Decimal('110.000'), Decimal('29.600')], [205, Decimal('128.000'), Decimal('30.000')], [220, Decimal('102.000'), Decimal('29.600')], [235, Decimal('103.000'), Decimal('29.800')], [235, Decimal('94.000'), Decimal('29.600')], [235, Decimal('100.000'), Decimal('28.900')], [245, Decimal('88.000'), Decimal('27.900')], [255, Decimal('79.000'), Decimal('27.200')], [250, Decimal('79.000'), Decimal('26.400')], [255, Decimal('80.000'), Decimal('25.600')], [255, Decimal('79.000'), Decimal('24.900')], [280, Decimal('69.000'), Decimal('24.200')], [300, Decimal('62.000'), Decimal('23.900')], [300, Decimal('61.000'), Decimal('23.900')], [295, Decimal('57.000'), Decimal('24.000')], [290, Decimal('57.000'), Decimal('24.400')], [290, Decimal('46.000'), Decimal('24.500')], [265, Decimal('19.000'), Decimal('24.100')], [270, Decimal('42.000'), Decimal('25.100')], [265, Decimal('22.000'), Decimal('23.400')], [240, Decimal('29.000'), Decimal('27.000')], [240, Decimal('13.000'), Decimal('25.800')], [150, Decimal('25.000'), Decimal('28.700')], [145, Decimal('27.000'), Decimal('27.700')], [140, Decimal('31.000'), Decimal('27.800')], [135, Decimal('36.000'), Decimal('28.300')], [140, Decimal('53.000'), Decimal('27.100')], [150, Decimal('64.000'), Decimal('28.000')], [140, Decimal('53.000'), Decimal('28.400')], [130, Decimal('54.000'), Decimal('27.900')], [125, Decimal('52.000'), Decimal('28.400')], [140, Decimal('58.000'), Decimal('27.800')], [130, Decimal('62.000'), Decimal('27.600')], [130, Decimal('64.000'), Decimal('27.900')], [130, Decimal('63.000'), Decimal('27.600')], [120, Decimal('56.000'), Decimal('27.600')], [145, Decimal('48.000'), Decimal('28.300')], [45, Decimal('73.000'), Decimal('28.200')], [45, Decimal('99.000'), Decimal('28.100')], [30, Decimal('83.000'), Decimal('28.200')], [15, Decimal('57.000'), Decimal('28.600')], [10, Decimal('49.000'), Decimal('28.500')], [355, Decimal('51.000'), Decimal('28.500')], [355, Decimal('63.000'), Decimal('28.200')], [325, Decimal('58.000'), Decimal('27.800')], [285, Decimal('76.000'), Decimal('27.900')], [255, Decimal('69.000'), Decimal('27.900')], [215, Decimal('57.000'), Decimal('28.100')], [195, Decimal('49.000'), Decimal('27.600')], [175, Decimal('50.000'), Decimal('27.000')], [160, Decimal('52.000'), Decimal('27.100')], [150, Decimal('48.000'), Decimal('26.600')], [140, Decimal('53.000'), Decimal('27.100')], [125, Decimal('52.000'), Decimal('26.900')], [125, Decimal('55.000'), Decimal('26.900')], [115, Decimal('51.000'), Decimal('26.700')], [110, Decimal('55.000'), Decimal('27.600')], [115, Decimal('48.000'), Decimal('28.000')], [105, Decimal('68.000'), Decimal('28.500')], [105, Decimal('69.000'), Decimal('29.000')], [95, Decimal('48.000'), Decimal('28.900')], [75, Decimal('52.000'), Decimal('28.900')], [70, Decimal('63.000'), Decimal('29.200')], [70, Decimal('58.000'), Decimal('29.200')], [70, Decimal('56.000'), Decimal('29.700')], [110, Decimal('100.000'), Decimal('29.800')], [150, Decimal('174.000'), Decimal('30.100')], [165, Decimal('105.000'), Decimal('29.600')], [160, Decimal('116.000'), Decimal('29.300')], [160, Decimal('135.000'), Decimal('29.700')], [190, Decimal('110.000'), Decimal('29.600')], [200, Decimal('97.000'), Decimal('29.100')], [190, Decimal('102.000'), Decimal('29.300')], [190, Decimal('105.000'), Decimal('29.000')], [205, Decimal('83.000'), Decimal('29.100')], [215, Decimal('127.000'), Decimal('28.500')], [220, Decimal('122.000'), Decimal('28.600')], [220, Decimal('115.000'), Decimal('28.900')], [215, Decimal('92.000'), Decimal('28.500')], [190, Decimal('86.000'), Decimal('28.600')], [180, Decimal('83.000'), Decimal('28.400')], [175, Decimal('78.000'), Decimal('29.100')], [165, Decimal('80.000'), Decimal('29.100')], [155, Decimal('94.000'), Decimal('29.400')], [185, Decimal('104.000'), Decimal('30.000')], [200, Decimal('107.000'), Decimal('29.600')], [230, Decimal('109.000'), Decimal('29.600')], [225, Decimal('111.000'), Decimal('30.400')], [220, Decimal('68.000'), Decimal('31.000')], [335, Decimal('70.000'), Decimal('31.500')], [310, Decimal('113.000'), Decimal('30.900')], [310, Decimal('79.000'), Decimal('30.600')], [285, Decimal('57.000'), Decimal('30.100')], [270, Decimal('58.000'), Decimal('29.700')], [280, Decimal('60.000'), Decimal('30.500')], [285, Decimal('50.000'), Decimal('30.600')], [275, Decimal('32.000'), Decimal('28.600')], [290, Decimal('47.000'), Decimal('28.700')], [275, Decimal('24.000'), Decimal('25.200')], [275, Decimal('15.000'), Decimal('22.500')], [300, Decimal('8.000'), Decimal('21.500')], [240, Decimal('19.000'), Decimal('23.600')], [140, Decimal('30.000'), Decimal('28.500')], [195, Decimal('21.000'), Decimal('28.000')], [140, Decimal('27.000'), Decimal('27.700')], [115, Decimal('50.000'), Decimal('28.000')], [180, Decimal('38.000'), Decimal('28.700')], [230, Decimal('59.000'), Decimal('28.300')], [210, Decimal('66.000'), Decimal('27.900')], [180, Decimal('67.000'), Decimal('28.000')], [200, Decimal('63.000'), Decimal('28.200')], [195, Decimal('69.000'), Decimal('28.300')], [220, Decimal('53.000'), Decimal('28.700')], [220, Decimal('65.000'), Decimal('28.300')], [240, Decimal('72.000'), Decimal('29.000')], [250, Decimal('60.000'), Decimal('28.300')], [255, Decimal('62.000'), Decimal('28.500')], [255, Decimal('62.000'), Decimal('28.000')], [250, Decimal('63.000'), Decimal('27.600')], [240, Decimal('63.000'), Decimal('28.000')], [240, Decimal('55.000'), Decimal('27.200')], [255, Decimal('55.000'), Decimal('26.300')], [255, Decimal('48.000'), Decimal('26.200')], [250, Decimal('41.000'), Decimal('26.200')], [245, Decimal('40.000'), Decimal('26.700')], [240, Decimal('50.000'), Decimal('25.800')], [240, Decimal('40.000'), Decimal('24.600')], [235, Decimal('34.000'), Decimal('23.800')], [225, Decimal('24.000'), Decimal('23.800')], [230, Decimal('25.000'), Decimal('23.600')], [260, Decimal('31.000'), Decimal('22.800')], [290, Decimal('30.000'), Decimal('22.000')], [310, Decimal('28.000'), Decimal('21.200')], [320, Decimal('33.000'), Decimal('19.700')], [335, Decimal('45.000'), Decimal('17.400')], [175, Decimal('60.000'), Decimal('29.400')], [175, Decimal('49.000'), Decimal('29.400')], [200, Decimal('37.000'), Decimal('28.800')], [180, Decimal('49.000'), Decimal('28.600')], [170, Decimal('53.000'), Decimal('28.600')], [155, Decimal('69.000'), Decimal('28.500')], [150, Decimal('46.000'), Decimal('28.900')], [120, Decimal('31.000'), Decimal('27.500')], [115, Decimal('29.000'), Decimal('26.000')], [135, Decimal('33.000'), Decimal('25.600')], [150, Decimal('24.000'), Decimal('26.000')], [190, Decimal('23.000'), Decimal('24.300')], [210, Decimal('43.000'), Decimal('28.500')], [200, Decimal('43.000'), Decimal('29.100')], [200, Decimal('38.000'), Decimal('29.100')], [210, Decimal('40.000'), Decimal('28.900')], [220, Decimal('43.000'), Decimal('29.100')], [230, Decimal('44.000'), Decimal('29.000')], [225, Decimal('80.000'), Decimal('29.100')], [235, Decimal('100.000'), Decimal('29.300')], [270, Decimal('96.000'), Decimal('29.300')], [280, Decimal('117.000'), Decimal('29.600')], [175, Decimal('101.000'), Decimal('29.400')], [195, Decimal('134.000'), Decimal('29.600')], [180, Decimal('113.000'), Decimal('29.500')], [175, Decimal('125.000'), Decimal('29.600')], [175, Decimal('116.000'), Decimal('28.900')], [185, Decimal('98.000'), Decimal('29.200')], [165, Decimal('96.000'), Decimal('28.900')], [175, Decimal('111.000'), Decimal('29.100')], [175, Decimal('95.000'), Decimal('29.000')], [170, Decimal('93.000'), Decimal('28.500')], [185, Decimal('86.000'), Decimal('28.600')], [185, Decimal('77.000'), Decimal('29.000')], [175, Decimal('71.000'), Decimal('28.600')], [175, Decimal('83.000'), Decimal('28.500')], [195, Decimal('73.000'), Decimal('28.200')], [190, Decimal('85.000'), Decimal('27.900')], [205, Decimal('78.000'), Decimal('28.400')], [210, Decimal('85.000'), Decimal('28.000')], [215, Decimal('85.000'), Decimal('27.700')], [220, Decimal('80.000'), Decimal('27.900')], [250, Decimal('68.000'), Decimal('28.000')], [275, Decimal('80.000'), Decimal('27.800')], [290, Decimal('69.000'), Decimal('27.600')], [290, Decimal('65.000'), Decimal('27.600')], [285, Decimal('54.000'), Decimal('27.200')], [275, Decimal('50.000'), Decimal('26.800')], [265, Decimal('32.000'), Decimal('26.500')], [255, Decimal('19.000'), Decimal('24.600')], [245, Decimal('21.000'), Decimal('24.700')], [250, Decimal('10.000'), Decimal('20.400')], [305, Decimal('21.000'), Decimal('24.200')], [300, Decimal('21.000'), Decimal('24.400')], [280, Decimal('24.000'), Decimal('22.900')], [260, Decimal('18.000'), Decimal('21.400')], [190, Decimal('29.000'), Decimal('27.900')], [180, Decimal('38.000'), Decimal('28.700')], [160, Decimal('44.000'), Decimal('28.600')], [170, Decimal('44.000'), Decimal('28.500')], [180, Decimal('54.000'), Decimal('28.100')], [190, Decimal('54.000'), Decimal('28.000')], [185, Decimal('58.000'), Decimal('28.300')], [175, Decimal('67.000'), Decimal('27.700')], [175, Decimal('71.000'), Decimal('27.700')], [165, Decimal('64.000'), Decimal('28.500')], [180, Decimal('68.000'), Decimal('28.800')], [175, Decimal('48.000'), Decimal('28.600')], [185, Decimal('51.000'), Decimal('28.800')], [190, Decimal('54.000'), Decimal('29.300')], [195, Decimal('68.000'), Decimal('30.100')], [205, Decimal('76.000'), Decimal('29.400')], [215, Decimal('112.000'), Decimal('28.900')], [200, Decimal('107.000'), Decimal('28.700')], [215, Decimal('125.000'), Decimal('28.500')], [210, Decimal('130.000'), Decimal('28.400')], [225, Decimal('123.000'), Decimal('28.600')], [240, Decimal('117.000'), Decimal('28.800')], [260, Decimal('92.000'), Decimal('29.200')], [270, Decimal('101.000'), Decimal('29.200')], [295, Decimal('94.000'), Decimal('28.800')], [315, Decimal('99.000'), Decimal('28.500')], [335, Decimal('94.000'), Decimal('28.800')], [25, Decimal('70.000'), Decimal('28.700')], [20, Decimal('89.000'), Decimal('28.000')], [360, Decimal('102.000'), Decimal('27.800')], [340, Decimal('99.000'), Decimal('27.900')], [335, Decimal('92.000'), Decimal('28.000')], [325, Decimal('81.000'), Decimal('27.900')], [310, Decimal('78.000'), Decimal('27.800')], [315, Decimal('66.000'), Decimal('27.500')], [310, Decimal('63.000'), Decimal('27.900')], [300, Decimal('51.000'), Decimal('27.300')], [310, Decimal('53.000'), Decimal('27.100')], [310, Decimal('22.000'), Decimal('26.000')], [290, Decimal('33.000'), Decimal('23.800')], [265, Decimal('45.000'), Decimal('22.900')], [275, Decimal('52.000'), Decimal('19.800')], [180, Decimal('45.000'), Decimal('28.000')], [175, Decimal('44.000'), Decimal('28.800')], [160, Decimal('45.000'), Decimal('28.400')], [145, Decimal('40.000'), Decimal('28.200')], [160, Decimal('43.000'), Decimal('28.600')], [160, Decimal('35.000'), Decimal('28.600')], [160, Decimal('40.000'), Decimal('28.800')], [155, Decimal('36.000'), Decimal('28.100')], [155, Decimal('69.000'), Decimal('28.300')], [180, Decimal('68.000'), Decimal('28.600')], [175, Decimal('71.000'), Decimal('28.300')], [190, Decimal('72.000'), Decimal('28.600')], [175, Decimal('89.000'), Decimal('28.300')], [190, Decimal('78.000'), Decimal('28.400')], [185, Decimal('102.000'), Decimal('28.600')], [185, Decimal('129.000'), Decimal('28.200')], [175, Decimal('143.000'), Decimal('28.500')], [280, Decimal('100.000'), Decimal('28.800')], [240, Decimal('113.000'), Decimal('28.500')], [260, Decimal('131.000'), Decimal('29.000')], [260, Decimal('87.000'), Decimal('28.300')], [280, Decimal('97.000'), Decimal('27.900')], [265, Decimal('85.000'), Decimal('28.800')], [225, Decimal('44.000'), Decimal('28.700')], [260, Decimal('15.000'), Decimal('29.000')], [230, Decimal('62.000'), Decimal('28.700')], [215, Decimal('66.000'), Decimal('28.700')], [210, Decimal('99.000'), Decimal('28.600')], [200, Decimal('120.000'), Decimal('28.300')], [215, Decimal('109.000'), Decimal('28.600')], [235, Decimal('100.000'), Decimal('28.500')], [250, Decimal('107.000'), Decimal('28.500')], [255, Decimal('119.000'), Decimal('28.400')], [280, Decimal('103.000'), Decimal('28.300')], [295, Decimal('85.000'), Decimal('27.700')], [295, Decimal('77.000'), Decimal('27.500')], [300, Decimal('72.000'), Decimal('26.200')], [300, Decimal('70.000'), Decimal('25.800')], [295, Decimal('52.000'), Decimal('24.800')], [290, Decimal('14.000'), Decimal('16.800')], [285, Decimal('13.000'), Decimal('18.400')], [255, Decimal('35.000'), Decimal('19.800')], [190, Decimal('16.000'), Decimal('15.700')], [175, Decimal('46.000'), Decimal('29.000')], [190, Decimal('40.000'), Decimal('29.200')], [180, Decimal('42.000'), Decimal('29.300')], [190, Decimal('45.000'), Decimal('29.000')], [195, Decimal('50.000'), Decimal('29.000')], [180, Decimal('35.000'), Decimal('29.000')], [180, Decimal('35.000'), Decimal('29.200')], [180, Decimal('42.000'), Decimal('29.000')], [190, Decimal('40.000'), Decimal('29.300')], [165, Decimal('42.000'), Decimal('29.300')], [170, Decimal('41.000'), Decimal('29.600')], [180, Decimal('48.000'), Decimal('29.200')], [155, Decimal('59.000'), Decimal('29.600')], [150, Decimal('62.000'), Decimal('29.300')], [155, Decimal('79.000'), Decimal('29.500')], [150, Decimal('71.000'), Decimal('29.800')], [160, Decimal('81.000'), Decimal('29.600')], [170, Decimal('99.000'), Decimal('29.800')], [185, Decimal('126.000'), Decimal('28.900')], [185, Decimal('121.000'), Decimal('29.200')], [165, Decimal('137.000'), Decimal('29.000')], [210, Decimal('126.000'), Decimal('29.300')], [220, Decimal('118.000'), Decimal('29.200')], [220, Decimal('139.000'), Decimal('29.200')], [220, Decimal('97.000'), Decimal('29.300')], [240, Decimal('113.000'), Decimal('29.200')], [250, Decimal('93.000'), Decimal('29.300')], [235, Decimal('94.000'), Decimal('29.200')], [225, Decimal('94.000'), Decimal('28.800')], [225, Decimal('110.000'), Decimal('28.400')], [215, Decimal('88.000'), Decimal('28.500')], [215, Decimal('78.000'), Decimal('28.200')], [205, Decimal('80.000'), Decimal('28.200')], [220, Decimal('86.000'), Decimal('27.900')], [260, Decimal('63.000'), Decimal('27.500')], [280, Decimal('81.000'), Decimal('27.100')], [295, Decimal('94.000'), Decimal('26.700')], [310, Decimal('96.000'), Decimal('25.500')], [315, Decimal('87.000'), Decimal('25.200')], [315, Decimal('80.000'), Decimal('24.900')], [320, Decimal('78.000'), Decimal('23.900')], [320, Decimal('76.000'), Decimal('24.500')], [330, Decimal('66.000'), Decimal('22.600')], [315, Decimal('38.000'), Decimal('20.100')], [305, Decimal('17.000'), Decimal('18.800')], [305, Decimal('30.000'), Decimal('15.400')], [315, Decimal('22.000'), Decimal('14.900')], [310, Decimal('29.000'), Decimal('15.200')], [325, Decimal('53.000'), Decimal('15.500')]]\n",
      "[[Decimal('15.8'), Decimal('158.1')], [Decimal('15.6'), Decimal('156.4')], [Decimal('15.2'), Decimal('154.6')], [Decimal('14.7'), Decimal('153.1')], [Decimal('14.3'), Decimal('152.0')], [Decimal('14.4'), Decimal('151.4')], [Decimal('14.5'), Decimal('150.1')], [Decimal('14.4'), Decimal('148.7')], [Decimal('14.5'), Decimal('146.8')], [Decimal('13.8'), Decimal('145.2')], [Decimal('14.5'), Decimal('144.6')], [Decimal('14.4'), Decimal('143.5')], [Decimal('14.3'), Decimal('141.6')], [Decimal('14.2'), Decimal('140.6')], [Decimal('13.6'), Decimal('139.2')], [Decimal('13.5'), Decimal('138.0')], [Decimal('13.7'), Decimal('137.2')], [Decimal('14.8'), Decimal('136.6')], [Decimal('15.5'), Decimal('135.9')], [Decimal('16.1'), Decimal('135.4')], [Decimal('16.8'), Decimal('134.7')], [Decimal('17.7'), Decimal('133.3')], [Decimal('18.5'), Decimal('132.5')], [Decimal('19.7'), Decimal('131.5')], [Decimal('20.8'), Decimal('130.4')], [Decimal('21.8'), Decimal('129.3')], [Decimal('22.8'), Decimal('128.3')], [Decimal('23.8'), Decimal('127.6')], [Decimal('24.9'), Decimal('127.1')], [Decimal('25.8'), Decimal('126.7')], [Decimal('26.8'), Decimal('126.4')], [Decimal('27.9'), Decimal('126.3')], [Decimal('28.6'), Decimal('126.1')], [Decimal('29.5'), Decimal('126.0')], [Decimal('30.2'), Decimal('125.9')], [Decimal('31.0'), Decimal('125.9')], [Decimal('31.9'), Decimal('126.0')], [Decimal('32.8'), Decimal('126.4')], [Decimal('33.7'), Decimal('127.1')], [Decimal('34.6'), Decimal('128.1')], [Decimal('35.2'), Decimal('129.3')], [Decimal('35.9'), Decimal('131.0')], [Decimal('37.9'), Decimal('136.6')], [Decimal('42.2'), Decimal('141.8')], [Decimal('9.5'), Decimal('160.5')], [Decimal('9.6'), Decimal('160.1')], [Decimal('9.9'), Decimal('159.6')], [Decimal('10.1'), Decimal('158.8')], [Decimal('10.3'), Decimal('158.3')], [Decimal('10.5'), Decimal('157.5')], [Decimal('11.0'), Decimal('155.4')], [Decimal('11.4'), Decimal('153.7')], [Decimal('11.2'), Decimal('151.8')], [Decimal('10.9'), Decimal('150.1')], [Decimal('10.2'), Decimal('149.0')], [Decimal('10.5'), Decimal('147.6')], [Decimal('10.6'), Decimal('148.3')], [Decimal('11.1'), Decimal('148.4')], [Decimal('11.3'), Decimal('148.5')], [Decimal('12.4'), Decimal('148.2')], [Decimal('13.4'), Decimal('147.3')], [Decimal('13.8'), Decimal('146.4')], [Decimal('14.1'), Decimal('145.4')], [Decimal('14.2'), Decimal('144.8')], [Decimal('14.2'), Decimal('144.7')], [Decimal('14.6'), Decimal('144.3')], [Decimal('15.8'), Decimal('143.4')], [Decimal('16.3'), Decimal('142.5')], [Decimal('17.0'), Decimal('140.8')], [Decimal('17.4'), Decimal('140.0')], [Decimal('17.6'), Decimal('138.7')], [Decimal('18.0'), Decimal('137.6')], [Decimal('18.4'), Decimal('136.3')], [Decimal('18.7'), Decimal('135.2')], [Decimal('19.1'), Decimal('134.3')], [Decimal('19.4'), Decimal('133.4')], [Decimal('20.4'), Decimal('132.7')], [Decimal('21.0'), Decimal('131.7')], [Decimal('21.8'), Decimal('130.6')], [Decimal('22.5'), Decimal('129.5')], [Decimal('23.3'), Decimal('128.6')], [Decimal('24.2'), Decimal('127.6')], [Decimal('25.1'), Decimal('126.6')], [Decimal('25.7'), Decimal('125.6')], [Decimal('26.6'), Decimal('124.7')], [Decimal('27.3'), Decimal('124.0')], [Decimal('27.8'), Decimal('123.3')], [Decimal('28.7'), Decimal('122.8')], [Decimal('29.1'), Decimal('122.6')], [Decimal('29.5'), Decimal('122.4')], [Decimal('29.8'), Decimal('122.6')], [Decimal('30.3'), Decimal('122.9')], [Decimal('30.9'), Decimal('123.0')], [Decimal('31.6'), Decimal('123.0')], [Decimal('32.5'), Decimal('123.2')], [Decimal('33.1'), Decimal('123.5')], [Decimal('34.0'), Decimal('123.8')], [Decimal('34.9'), Decimal('124.2')], [Decimal('35.8'), Decimal('124.6')], [Decimal('36.6'), Decimal('124.9')], [Decimal('37.5'), Decimal('125.1')], [Decimal('38.2'), Decimal('125.5')], [Decimal('39.2'), Decimal('125.8')], [Decimal('11.8'), Decimal('150.9')], [Decimal('12.4'), Decimal('150.3')], [Decimal('12.4'), Decimal('149.9')], [Decimal('12.6'), Decimal('149.0')], [Decimal('13.0'), Decimal('148.2')], [Decimal('13.0'), Decimal('147.0')], [Decimal('13.5'), Decimal('146.3')], [Decimal('14.0'), Decimal('145.7')], [Decimal('14.1'), Decimal('144.9')], [Decimal('14.7'), Decimal('144.7')], [Decimal('15.1'), Decimal('144.1')], [Decimal('15.5'), Decimal('143.5')], [Decimal('16.0'), Decimal('142.8')], [Decimal('16.5'), Decimal('141.7')], [Decimal('17.0'), Decimal('140.5')], [Decimal('17.3'), Decimal('139.2')], [Decimal('17.7'), Decimal('137.6')], [Decimal('18.2'), Decimal('136.1')], [Decimal('18.5'), Decimal('134.6')], [Decimal('18.7'), Decimal('132.9')], [Decimal('18.8'), Decimal('131.2')], [Decimal('18.8'), Decimal('129.8')], [Decimal('19.0'), Decimal('128.4')], [Decimal('18.9'), Decimal('127.2')], [Decimal('18.9'), Decimal('126.1')], [Decimal('18.8'), Decimal('125.3')], [Decimal('18.9'), Decimal('124.7')], [Decimal('19.1'), Decimal('124.0')], [Decimal('19.1'), Decimal('123.2')], [Decimal('19.2'), Decimal('123.0')], [Decimal('19.3'), Decimal('122.4')], [Decimal('19.3'), Decimal('122.4')], [Decimal('19.6'), Decimal('122.5')], [Decimal('20.0'), Decimal('122.6')], [Decimal('20.7'), Decimal('122.7')], [Decimal('21.3'), Decimal('123.1')], [Decimal('22.3'), Decimal('123.2')], [Decimal('23.3'), Decimal('123.3')], [Decimal('23.8'), Decimal('123.5')], [Decimal('24.5'), Decimal('124.0')], [Decimal('25.2'), Decimal('124.6')], [Decimal('26.2'), Decimal('125.9')], [Decimal('27.9'), Decimal('127.4')], [Decimal('28.7'), Decimal('128.1')], [Decimal('29.5'), Decimal('128.8')], [Decimal('30.5'), Decimal('129.4')], [Decimal('31.6'), Decimal('129.9')], [Decimal('32.9'), Decimal('130.4')], [Decimal('33.9'), Decimal('130.7')], [Decimal('34.9'), Decimal('131.0')], [Decimal('35.9'), Decimal('131.2')], [Decimal('36.6'), Decimal('131.4')], [Decimal('37.0'), Decimal('131.6')], [Decimal('37.4'), Decimal('131.8')], [Decimal('37.7'), Decimal('132.2')], [Decimal('38.9'), Decimal('132.6')], [Decimal('13.1'), Decimal('179.5')], [Decimal('13.4'), Decimal('178.5')], [Decimal('14.0'), Decimal('177.9')], [Decimal('14.6'), Decimal('176.7')], [Decimal('15.1'), Decimal('175.5')], [Decimal('15.9'), Decimal('174.3')], [Decimal('16.7'), Decimal('173.1')], [Decimal('16.8'), Decimal('171.9')], [Decimal('17.0'), Decimal('171.5')], [Decimal('17.7'), Decimal('171.0')], [Decimal('18.0'), Decimal('169.3')], [Decimal('18.0'), Decimal('168.0')], [Decimal('18.5'), Decimal('166.7')], [Decimal('19.1'), Decimal('165.6')], [Decimal('19.0'), Decimal('165.5')], [Decimal('18.7'), Decimal('164.7')], [Decimal('18.6'), Decimal('161.5')], [Decimal('18.6'), Decimal('159.9')], [Decimal('18.4'), Decimal('158.6')], [Decimal('18.4'), Decimal('157.5')], [Decimal('18.3'), Decimal('157.4')], [Decimal('17.7'), Decimal('156.9')], [Decimal('17.8'), Decimal('155.7')], [Decimal('18.8'), Decimal('151.4')], [Decimal('20.2'), Decimal('150.5')], [Decimal('20.4'), Decimal('149.2')], [Decimal('21.0'), Decimal('148.3')], [Decimal('21.1'), Decimal('147.4')], [Decimal('21.7'), Decimal('146.4')], [Decimal('21.9'), Decimal('145.5')], [Decimal('22.3'), Decimal('144.1')], [Decimal('22.6'), Decimal('142.9')], [Decimal('22.9'), Decimal('141.7')], [Decimal('23.1'), Decimal('140.6')], [Decimal('23.3'), Decimal('139.6')], [Decimal('23.6'), Decimal('138.5')], [Decimal('23.8'), Decimal('137.7')], [Decimal('24.2'), Decimal('136.9')], [Decimal('24.4'), Decimal('135.9')], [Decimal('24.6'), Decimal('135.1')], [Decimal('24.5'), Decimal('134.3')], [Decimal('24.6'), Decimal('133.4')], [Decimal('24.8'), Decimal('132.7')], [Decimal('24.8'), Decimal('131.8')], [Decimal('24.9'), Decimal('131.0')], [Decimal('25.6'), Decimal('130.6')], [Decimal('26.2'), Decimal('130.0')], [Decimal('27.3'), Decimal('129.5')], [Decimal('28.3'), Decimal('129.0')], [Decimal('29.6'), Decimal('129.0')], [Decimal('31.0'), Decimal('129.1')], [Decimal('31.4'), Decimal('129.1')], [Decimal('31.9'), Decimal('129.2')], [Decimal('32.8'), Decimal('129.4')], [Decimal('33.6'), Decimal('130.2')], [Decimal('34.2'), Decimal('131.0')], [Decimal('12.4'), Decimal('148.2')], [Decimal('12.7'), Decimal('147.5')], [Decimal('12.9'), Decimal('147.4')], [Decimal('13.2'), Decimal('146.7')], [Decimal('13.4'), Decimal('145.4')], [Decimal('14.2'), Decimal('144.5')], [Decimal('14.4'), Decimal('143.8')], [Decimal('14.5'), Decimal('143.2')], [Decimal('15.0'), Decimal('142.0')], [Decimal('15.4'), Decimal('141.0')], [Decimal('15.2'), Decimal('140.5')], [Decimal('14.8'), Decimal('140.0')], [Decimal('14.3'), Decimal('139.5')], [Decimal('14.6'), Decimal('138.5')], [Decimal('14.8'), Decimal('137.7')], [Decimal('14.9'), Decimal('137.1')], [Decimal('14.9'), Decimal('136.6')], [Decimal('15.0'), Decimal('135.7')], [Decimal('15.0'), Decimal('135.1')], [Decimal('15.1'), Decimal('134.5')], [Decimal('15.2'), Decimal('133.9')], [Decimal('15.7'), Decimal('133.1')], [Decimal('15.7'), Decimal('132.3')], [Decimal('16.2'), Decimal('131.4')], [Decimal('16.5'), Decimal('130.7')], [Decimal('17.0'), Decimal('130.4')], [Decimal('17.4'), Decimal('130.0')], [Decimal('18.2'), Decimal('129.9')], [Decimal('19.2'), Decimal('129.8')], [Decimal('20.1'), Decimal('129.7')], [Decimal('20.8'), Decimal('130.0')], [Decimal('21.7'), Decimal('130.2')], [Decimal('22.4'), Decimal('130.4')], [Decimal('23.1'), Decimal('130.7')], [Decimal('23.7'), Decimal('131.2')], [Decimal('24.2'), Decimal('131.4')], [Decimal('25.0'), Decimal('131.7')], [Decimal('25.7'), Decimal('131.6')], [Decimal('26.2'), Decimal('131.7')], [Decimal('26.8'), Decimal('131.5')], [Decimal('27.3'), Decimal('131.7')], [Decimal('28.2'), Decimal('131.6')], [Decimal('28.7'), Decimal('131.6')], [Decimal('29.4'), Decimal('131.8')], [Decimal('30.4'), Decimal('132.3')], [Decimal('31.3'), Decimal('132.5')], [Decimal('32.3'), Decimal('132.9')], [Decimal('33.0'), Decimal('133.3')], [Decimal('34.2'), Decimal('134.3')], [Decimal('36.3'), Decimal('135.7')], [Decimal('38.9'), Decimal('136.7')], [Decimal('41.2'), Decimal('137.0')], [Decimal('44.3'), Decimal('137.0')], [Decimal('8.3'), Decimal('149.4')], [Decimal('9.2'), Decimal('148.1')], [Decimal('10.5'), Decimal('146.5')], [Decimal('12.2'), Decimal('144.8')], [Decimal('12.5'), Decimal('142.7')], [Decimal('12.9'), Decimal('141.6')], [Decimal('13.1'), Decimal('139.8')], [Decimal('13.5'), Decimal('138.9')], [Decimal('14.4'), Decimal('138.1')], [Decimal('15.0'), Decimal('137.2')], [Decimal('15.4'), Decimal('136.4')], [Decimal('15.5'), Decimal('135.8')], [Decimal('16.1'), Decimal('135.2')], [Decimal('16.4'), Decimal('134.5')], [Decimal('17.2'), Decimal('133.7')], [Decimal('17.7'), Decimal('132.7')], [Decimal('18.2'), Decimal('132.1')], [Decimal('18.9'), Decimal('131.3')], [Decimal('19.5'), Decimal('130.5')], [Decimal('20.2'), Decimal('129.8')], [Decimal('20.9'), Decimal('129.2')], [Decimal('21.6'), Decimal('128.8')], [Decimal('22.4'), Decimal('128.1')], [Decimal('23.1'), Decimal('127.7')], [Decimal('24.3'), Decimal('127.1')], [Decimal('25.4'), Decimal('126.7')], [Decimal('26.7'), Decimal('126.1')], [Decimal('28.0'), Decimal('125.8')], [Decimal('29.4'), Decimal('125.6')], [Decimal('30.2'), Decimal('125.7')], [Decimal('31.2'), Decimal('125.8')], [Decimal('31.9'), Decimal('125.9')], [Decimal('32.7'), Decimal('126.4')], [Decimal('33.8'), Decimal('127.3')], [Decimal('34.7'), Decimal('128.1')], [Decimal('35.8'), Decimal('129.2')], [Decimal('37.2'), Decimal('130.5')], [Decimal('38.3'), Decimal('131.8')], [Decimal('38.7'), Decimal('133.3')], [Decimal('40.6'), Decimal('136.6')], [Decimal('42.0'), Decimal('141.1')], [Decimal('12.8'), Decimal('143.1')], [Decimal('13.0'), Decimal('141.9')], [Decimal('13.4'), Decimal('140.7')], [Decimal('13.6'), Decimal('139.6')], [Decimal('14.1'), Decimal('138.2')], [Decimal('14.7'), Decimal('136.8')], [Decimal('14.7'), Decimal('135.5')], [Decimal('15.0'), Decimal('134.6')], [Decimal('15.5'), Decimal('133.2')], [Decimal('15.8'), Decimal('132.1')], [Decimal('16.3'), Decimal('131.1')], [Decimal('16.7'), Decimal('130.0')], [Decimal('17.4'), Decimal('128.8')], [Decimal('17.7'), Decimal('127.8')], [Decimal('18.4'), Decimal('126.7')], [Decimal('19.3'), Decimal('125.7')], [Decimal('20.1'), Decimal('124.7')], [Decimal('21.1'), Decimal('123.9')], [Decimal('22.2'), Decimal('123.4')], [Decimal('22.9'), Decimal('123.2')], [Decimal('24.1'), Decimal('122.8')], [Decimal('25.3'), Decimal('122.7')], [Decimal('25.9'), Decimal('122.7')], [Decimal('26.3'), Decimal('122.7')], [Decimal('26.8'), Decimal('123.5')], [Decimal('27.5'), Decimal('124.3')], [Decimal('28.1'), Decimal('125.1')], [Decimal('28.6'), Decimal('126.1')], [Decimal('29.4'), Decimal('127.1')], [Decimal('30.2'), Decimal('128.3')], [Decimal('30.9'), Decimal('129.8')], [Decimal('31.1'), Decimal('130.7')], [Decimal('31.5'), Decimal('131.3')], [Decimal('32.4'), Decimal('132.3')], [Decimal('32.9'), Decimal('133.4')], [Decimal('34.3'), Decimal('135.8')], [Decimal('34.9'), Decimal('137.3')], [Decimal('18.6'), Decimal('128.6')], [Decimal('20.0'), Decimal('128.4')], [Decimal('22.1'), Decimal('129.0')], [Decimal('23.9'), Decimal('128.5')], [Decimal('24.1'), Decimal('128.3')], [Decimal('24.7'), Decimal('127.4')], [Decimal('25.7'), Decimal('126.7')], [Decimal('26.5'), Decimal('126.5')], [Decimal('27.1'), Decimal('126.6')], [Decimal('28.7'), Decimal('126.9')], [Decimal('29.6'), Decimal('126.0')], [Decimal('30.0'), Decimal('125.7')], [Decimal('30.4'), Decimal('125.5')], [Decimal('30.8'), Decimal('125.3')], [Decimal('31.2'), Decimal('125.2')], [Decimal('31.6'), Decimal('125.2')], [Decimal('32.1'), Decimal('125.0')], [Decimal('32.5'), Decimal('124.8')], [Decimal('32.8'), Decimal('124.7')], [Decimal('32.9'), Decimal('124.7')], [Decimal('33.2'), Decimal('124.7')], [Decimal('33.5'), Decimal('124.7')], [Decimal('34.0'), Decimal('124.8')], [Decimal('34.5'), Decimal('124.9')], [Decimal('34.9'), Decimal('124.9')], [Decimal('35.0'), Decimal('124.9')], [Decimal('35.2'), Decimal('125.0')], [Decimal('7.6'), Decimal('173.3')], [Decimal('8.4'), Decimal('172.3')], [Decimal('9.4'), Decimal('171.5')], [Decimal('9.0'), Decimal('170.6')], [Decimal('10.2'), Decimal('170.0')], [Decimal('10.9'), Decimal('168.9')], [Decimal('11.1'), Decimal('167.2')], [Decimal('11.6'), Decimal('165.9')], [Decimal('11.5'), Decimal('164.8')], [Decimal('11.2'), Decimal('164.0')], [Decimal('11.2'), Decimal('162.0')], [Decimal('11.3'), Decimal('161.4')], [Decimal('11.7'), Decimal('159.9')], [Decimal('11.8'), Decimal('158.9')], [Decimal('11.9'), Decimal('158.4')], [Decimal('12.6'), Decimal('156.8')], [Decimal('13.1'), Decimal('155.5')], [Decimal('13.6'), Decimal('154.5')], [Decimal('14.3'), Decimal('153.4')], [Decimal('15.0'), Decimal('152.3')], [Decimal('15.6'), Decimal('151.1')], [Decimal('15.4'), Decimal('149.8')], [Decimal('16.0'), Decimal('149.1')], [Decimal('16.5'), Decimal('147.9')], [Decimal('17.0'), Decimal('146.9')], [Decimal('17.6'), Decimal('145.9')], [Decimal('18.0'), Decimal('144.5')], [Decimal('18.2'), Decimal('143.6')], [Decimal('18.2'), Decimal('142.7')], [Decimal('18.4'), Decimal('141.9')], [Decimal('18.2'), Decimal('141.3')], [Decimal('18.3'), Decimal('140.7')], [Decimal('18.2'), Decimal('139.6')], [Decimal('18.4'), Decimal('139.5')], [Decimal('18.4'), Decimal('139.0')], [Decimal('18.4'), Decimal('138.3')], [Decimal('18.4'), Decimal('137.7')], [Decimal('18.5'), Decimal('137.6')], [Decimal('18.8'), Decimal('137.5')], [Decimal('19.2'), Decimal('137.3')], [Decimal('19.6'), Decimal('137.2')], [Decimal('20.5'), Decimal('137.1')], [Decimal('21.4'), Decimal('136.9')], [Decimal('22.2'), Decimal('136.6')], [Decimal('22.9'), Decimal('136.6')], [Decimal('23.7'), Decimal('136.6')], [Decimal('24.4'), Decimal('136.6')], [Decimal('25.5'), Decimal('136.3')], [Decimal('26.5'), Decimal('136.3')], [Decimal('27.6'), Decimal('136.0')], [Decimal('28.9'), Decimal('135.7')], [Decimal('30.0'), Decimal('135.2')], [Decimal('31.0'), Decimal('134.7')], [Decimal('31.9'), Decimal('134.5')], [Decimal('33.0'), Decimal('134.4')], [Decimal('34.0'), Decimal('134.0')], [Decimal('35.1'), Decimal('133.5')], [Decimal('35.6'), Decimal('133.6')], [Decimal('36.6'), Decimal('134.5')], [Decimal('37.4'), Decimal('135.6')], [Decimal('16.7'), Decimal('130.4')], [Decimal('18.7'), Decimal('128.7')], [Decimal('20.6'), Decimal('127.1')], [Decimal('21.9'), Decimal('125.8')], [Decimal('23.6'), Decimal('124.5')], [Decimal('24.8'), Decimal('124.0')], [Decimal('26.1'), Decimal('124.0')], [Decimal('27.8'), Decimal('124.8')], [Decimal('29.5'), Decimal('126.1')], [Decimal('31.4'), Decimal('127.8')], [Decimal('32.8'), Decimal('130.3')], [Decimal('33.5'), Decimal('134.4')], [Decimal('34.4'), Decimal('138.3')], [Decimal('35.8'), Decimal('142.4')], [Decimal('11.9'), Decimal('142.2')], [Decimal('13.1'), Decimal('141.1')], [Decimal('13.8'), Decimal('140.6')], [Decimal('14.6'), Decimal('139.1')], [Decimal('15.4'), Decimal('138.0')], [Decimal('16.0'), Decimal('137.0')], [Decimal('16.8'), Decimal('135.7')], [Decimal('17.4'), Decimal('134.5')], [Decimal('18.0'), Decimal('132.9')], [Decimal('18.4'), Decimal('131.5')], [Decimal('19.0'), Decimal('130.3')], [Decimal('19.7'), Decimal('129.1')], [Decimal('20.3'), Decimal('128.1')], [Decimal('21.6'), Decimal('127.3')], [Decimal('22.3'), Decimal('126.8')], [Decimal('23.8'), Decimal('126.1')], [Decimal('24.9'), Decimal('126.0')], [Decimal('26.5'), Decimal('125.7')], [Decimal('27.7'), Decimal('125.6')], [Decimal('28.3'), Decimal('125.6')], [Decimal('28.9'), Decimal('125.8')], [Decimal('29.6'), Decimal('126.0')], [Decimal('30.2'), Decimal('126.3')], [Decimal('30.9'), Decimal('126.4')], [Decimal('31.5'), Decimal('126.6')], [Decimal('31.7'), Decimal('127.1')], [Decimal('31.7'), Decimal('127.6')], [Decimal('31.7'), Decimal('128.0')], [Decimal('31.9'), Decimal('128.9')], [Decimal('32.1'), Decimal('131.3')], [Decimal('33.0'), Decimal('134.2')], [Decimal('33.8'), Decimal('136.5')], [Decimal('34.6'), Decimal('139.0')], [Decimal('36.3'), Decimal('141.2')], [Decimal('26.3'), Decimal('161.9')], [Decimal('26.4'), Decimal('161.2')], [Decimal('26.7'), Decimal('160.7')], [Decimal('27.2'), Decimal('160.2')], [Decimal('27.4'), Decimal('159.9')], [Decimal('27.5'), Decimal('159.1')], [Decimal('27.6'), Decimal('158.1')], [Decimal('28.0'), Decimal('157.2')], [Decimal('28.1'), Decimal('156.0')], [Decimal('28.4'), Decimal('154.8')], [Decimal('28.5'), Decimal('154.3')], [Decimal('28.4'), Decimal('153.8')], [Decimal('28.6'), Decimal('153.3')], [Decimal('28.6'), Decimal('152.2')], [Decimal('28.1'), Decimal('151.8')], [Decimal('28.1'), Decimal('151.2')], [Decimal('28.0'), Decimal('151.5')], [Decimal('27.8'), Decimal('151.8')], [Decimal('27.3'), Decimal('152.3')], [Decimal('26.8'), Decimal('153.0')], [Decimal('26.2'), Decimal('154.1')], [Decimal('25.9'), Decimal('155.6')], [Decimal('25.7'), Decimal('156.5')], [Decimal('25.9'), Decimal('157.5')], [Decimal('26.2'), Decimal('158.3')], [Decimal('26.9'), Decimal('158.5')], [Decimal('28.0'), Decimal('158.0')], [Decimal('29.0'), Decimal('157.1')], [Decimal('29.9'), Decimal('155.6')], [Decimal('30.5'), Decimal('154.0')], [Decimal('30.7'), Decimal('152.1')], [Decimal('30.9'), Decimal('150.7')], [Decimal('30.7'), Decimal('148.7')], [Decimal('30.4'), Decimal('146.9')], [Decimal('29.7'), Decimal('145.4')], [Decimal('29.1'), Decimal('144.8')], [Decimal('28.1'), Decimal('143.7')], [Decimal('27.5'), Decimal('143.4')], [Decimal('27.2'), Decimal('143.0')], [Decimal('26.4'), Decimal('142.2')], [Decimal('25.5'), Decimal('142.0')], [Decimal('24.8'), Decimal('141.7')], [Decimal('24.0'), Decimal('141.8')], [Decimal('23.4'), Decimal('141.5')], [Decimal('22.9'), Decimal('141.5')], [Decimal('22.8'), Decimal('140.9')], [Decimal('22.8'), Decimal('140.4')], [Decimal('23.0'), Decimal('139.9')], [Decimal('23.1'), Decimal('139.4')], [Decimal('23.3'), Decimal('138.8')], [Decimal('23.7'), Decimal('138.2')], [Decimal('24.1'), Decimal('137.7')], [Decimal('24.4'), Decimal('137.3')], [Decimal('25.0'), Decimal('136.7')], [Decimal('25.4'), Decimal('136.3')], [Decimal('25.8'), Decimal('136.0')], [Decimal('26.1'), Decimal('135.8')], [Decimal('26.7'), Decimal('135.6')], [Decimal('27.3'), Decimal('135.0')], [Decimal('27.8'), Decimal('134.1')], [Decimal('28.2'), Decimal('133.4')], [Decimal('28.4'), Decimal('132.5')], [Decimal('28.5'), Decimal('131.6')], [Decimal('28.6'), Decimal('131.1')], [Decimal('28.9'), Decimal('130.7')], [Decimal('29.2'), Decimal('130.4')], [Decimal('29.7'), Decimal('130.2')], [Decimal('29.9'), Decimal('130.0')], [Decimal('30.0'), Decimal('129.9')], [Decimal('30.2'), Decimal('130.2')], [Decimal('30.9'), Decimal('130.9')], [Decimal('31.2'), Decimal('131.4')], [Decimal('31.8'), Decimal('132.2')], [Decimal('32.5'), Decimal('132.7')], [Decimal('33.3'), Decimal('133.8')], [Decimal('34.0'), Decimal('135.0')], [Decimal('35.0'), Decimal('136.3')], [Decimal('35.8'), Decimal('136.8')], [Decimal('36.4'), Decimal('138.7')], [Decimal('37.5'), Decimal('139.0')], [Decimal('19.7'), Decimal('131.3')], [Decimal('19.9'), Decimal('130.7')], [Decimal('20.0'), Decimal('130.3')], [Decimal('20.3'), Decimal('130.1')], [Decimal('20.3'), Decimal('129.9')], [Decimal('20.3'), Decimal('129.7')], [Decimal('20.1'), Decimal('129.8')], [Decimal('20.9'), Decimal('129.5')], [Decimal('21.7'), Decimal('128.9')], [Decimal('22.8'), Decimal('128.1')], [Decimal('23.7'), Decimal('127.4')], [Decimal('24.5'), Decimal('127.2')], [Decimal('25.5'), Decimal('126.8')], [Decimal('26.2'), Decimal('126.8')], [Decimal('27.2'), Decimal('127.1')], [Decimal('28.2'), Decimal('127.2')], [Decimal('28.8'), Decimal('127.5')], [Decimal('29.4'), Decimal('127.8')], [Decimal('30.0'), Decimal('128.0')], [Decimal('30.7'), Decimal('128.0')], [Decimal('31.3'), Decimal('128.0')], [Decimal('31.9'), Decimal('128.2')], [Decimal('32.6'), Decimal('128.5')], [Decimal('33.3'), Decimal('128.7')], [Decimal('33.9'), Decimal('129.1')], [Decimal('34.4'), Decimal('129.6')], [Decimal('34.9'), Decimal('130.2')], [Decimal('35.5'), Decimal('131.0')], [Decimal('36.2'), Decimal('131.5')], [Decimal('37.4'), Decimal('132.4')], [Decimal('38.2'), Decimal('133.5')], [Decimal('39.1'), Decimal('134.6')], [Decimal('40.1'), Decimal('135.8')], [Decimal('28.1'), Decimal('127.1')], [Decimal('29.3'), Decimal('126.0')], [Decimal('29.6'), Decimal('124.9')], [Decimal('29.9'), Decimal('124.7')], [Decimal('30.0'), Decimal('124.3')], [Decimal('30.6'), Decimal('123.5')], [Decimal('30.5'), Decimal('122.1')], [Decimal('31.0'), Decimal('121.0')], [Decimal('31.6'), Decimal('118.7')], [Decimal('31.7'), Decimal('117.4')], [Decimal('31.9'), Decimal('116.5')], [Decimal('32.1'), Decimal('115.3')], [Decimal('13.2'), Decimal('143.7')], [Decimal('15.2'), Decimal('143.2')], [Decimal('16.3'), Decimal('142.8')], [Decimal('18.4'), Decimal('141.8')], [Decimal('20.0'), Decimal('141.7')], [Decimal('21.4'), Decimal('141.0')], [Decimal('23.0'), Decimal('140.4')], [Decimal('23.8'), Decimal('140.2')], [Decimal('24.3'), Decimal('139.9')], [Decimal('24.5'), Decimal('140.0')], [Decimal('24.8'), Decimal('140.0')], [Decimal('24.9'), Decimal('140.0')], [Decimal('24.9'), Decimal('139.7')], [Decimal('25.1'), Decimal('139.0')], [Decimal('25.0'), Decimal('138.7')], [Decimal('25.2'), Decimal('138.2')], [Decimal('25.6'), Decimal('137.4')], [Decimal('25.8'), Decimal('136.3')], [Decimal('26.0'), Decimal('135.5')], [Decimal('26.5'), Decimal('134.5')], [Decimal('27.0'), Decimal('133.3')], [Decimal('27.6'), Decimal('132.2')], [Decimal('28.4'), Decimal('131.1')], [Decimal('29.1'), Decimal('129.9')], [Decimal('30.3'), Decimal('127.7')], [Decimal('31.1'), Decimal('126.9')], [Decimal('31.5'), Decimal('126.6')], [Decimal('31.9'), Decimal('126.3')], [Decimal('32.3'), Decimal('126.0')], [Decimal('32.7'), Decimal('125.8')], [Decimal('33.1'), Decimal('125.6')], [Decimal('33.3'), Decimal('125.6')], [Decimal('33.4'), Decimal('125.6')], [Decimal('33.6'), Decimal('125.5')], [Decimal('34.2'), Decimal('125.7')], [Decimal('34.3'), Decimal('126.1')], [Decimal('34.8'), Decimal('126.7')], [Decimal('35.5'), Decimal('127.2')], [Decimal('36.3'), Decimal('127.7')], [Decimal('37.5'), Decimal('128.6')], [Decimal('38.2'), Decimal('129.4')], [Decimal('38.8'), Decimal('130.3')], [Decimal('40.1'), Decimal('132.1')], [Decimal('41.4'), Decimal('133.5')], [Decimal('12.9'), Decimal('146.4')], [Decimal('13.8'), Decimal('145.3')], [Decimal('15.3'), Decimal('144.4')], [Decimal('15.1'), Decimal('143.2')], [Decimal('15.4'), Decimal('141.9')], [Decimal('15.4'), Decimal('140.4')], [Decimal('16.2'), Decimal('139.7')], [Decimal('16.6'), Decimal('138.3')], [Decimal('17.0'), Decimal('137.2')], [Decimal('17.7'), Decimal('136.2')], [Decimal('18.6'), Decimal('134.6')], [Decimal('19.1'), Decimal('133.7')], [Decimal('19.7'), Decimal('132.4')], [Decimal('21.0'), Decimal('130.7')], [Decimal('22.1'), Decimal('128.7')], [Decimal('22.9'), Decimal('127.8')], [Decimal('23.7'), Decimal('126.7')], [Decimal('24.5'), Decimal('126.3')], [Decimal('25.0'), Decimal('125.8')], [Decimal('25.5'), Decimal('125.4')], [Decimal('26.0'), Decimal('124.9')], [Decimal('26.6'), Decimal('124.6')], [Decimal('27.1'), Decimal('124.3')], [Decimal('27.3'), Decimal('124.4')], [Decimal('27.7'), Decimal('124.5')], [Decimal('28.1'), Decimal('124.7')], [Decimal('28.4'), Decimal('124.8')], [Decimal('28.8'), Decimal('125.3')], [Decimal('29.1'), Decimal('125.8')], [Decimal('29.4'), Decimal('126.2')], [Decimal('29.2'), Decimal('126.4')], [Decimal('29.2'), Decimal('126.6')], [Decimal('29.4'), Decimal('127.2')], [Decimal('29.5'), Decimal('127.7')], [Decimal('29.7'), Decimal('128.1')], [Decimal('30.2'), Decimal('129.0')], [Decimal('30.5'), Decimal('129.6')], [Decimal('30.9'), Decimal('130.2')], [Decimal('32.6'), Decimal('132.0')], [Decimal('34.4'), Decimal('134.5')], [Decimal('37.5'), Decimal('138.4')], [Decimal('41.3'), Decimal('140.0')], [Decimal('13.6'), Decimal('145.1')], [Decimal('14.4'), Decimal('144.5')], [Decimal('15.0'), Decimal('143.7')], [Decimal('15.4'), Decimal('142.8')], [Decimal('15.6'), Decimal('141.6')], [Decimal('15.8'), Decimal('140.8')], [Decimal('16.4'), Decimal('139.1')], [Decimal('16.9'), Decimal('137.8')], [Decimal('17.0'), Decimal('136.2')], [Decimal('17.0'), Decimal('135.1')], [Decimal('17.3'), Decimal('134.3')], [Decimal('17.5'), Decimal('133.3')], [Decimal('18.1'), Decimal('132.3')], [Decimal('18.4'), Decimal('131.3')], [Decimal('18.9'), Decimal('130.4')], [Decimal('19.3'), Decimal('129.7')], [Decimal('19.6'), Decimal('129.1')], [Decimal('19.6'), Decimal('128.8')], [Decimal('19.8'), Decimal('128.8')], [Decimal('20.0'), Decimal('128.9')], [Decimal('20.3'), Decimal('128.9')], [Decimal('20.7'), Decimal('129.0')], [Decimal('20.9'), Decimal('129.2')], [Decimal('21.3'), Decimal('129.2')], [Decimal('21.5'), Decimal('129.2')], [Decimal('21.5'), Decimal('129.1')], [Decimal('21.7'), Decimal('129.0')], [Decimal('21.9'), Decimal('128.8')], [Decimal('22.2'), Decimal('128.5')], [Decimal('22.5'), Decimal('128.0')], [Decimal('23.0'), Decimal('127.3')], [Decimal('23.8'), Decimal('126.9')], [Decimal('24.5'), Decimal('126.7')], [Decimal('25.5'), Decimal('126.8')], [Decimal('26.7'), Decimal('127.2')], [Decimal('27.8'), Decimal('128.4')], [Decimal('29.2'), Decimal('129.4')], [Decimal('30.5'), Decimal('131.2')], [Decimal('32.4'), Decimal('133.1')], [Decimal('34.1'), Decimal('135.9')], [Decimal('37.3'), Decimal('139.6')], [Decimal('40.9'), Decimal('143.9')], [Decimal('43.8'), Decimal('148.9')], [Decimal('8.8'), Decimal('157.7')], [Decimal('9.1'), Decimal('156.3')], [Decimal('9.5'), Decimal('155.5')], [Decimal('10.2'), Decimal('154.1')], [Decimal('10.9'), Decimal('153.0')], [Decimal('11.8'), Decimal('151.6')], [Decimal('12.6'), Decimal('149.9')], [Decimal('13.0'), Decimal('148.3')], [Decimal('13.4'), Decimal('146.9')], [Decimal('14.5'), Decimal('145.5')], [Decimal('15.3'), Decimal('143.4')], [Decimal('15.8'), Decimal('141.1')], [Decimal('16.8'), Decimal('139.5')], [Decimal('16.8'), Decimal('137.9')], [Decimal('16.9'), Decimal('136.5')], [Decimal('17.3'), Decimal('135.3')], [Decimal('17.4'), Decimal('134.2')], [Decimal('17.6'), Decimal('133.2')], [Decimal('17.9'), Decimal('132.2')], [Decimal('18.2'), Decimal('131.5')], [Decimal('18.5'), Decimal('131.0')], [Decimal('18.7'), Decimal('130.5')], [Decimal('19.2'), Decimal('130.1')], [Decimal('19.7'), Decimal('129.9')], [Decimal('20.3'), Decimal('129.6')], [Decimal('20.9'), Decimal('129.4')], [Decimal('21.4'), Decimal('129.4')], [Decimal('22.2'), Decimal('129.3')], [Decimal('23.2'), Decimal('129.3')], [Decimal('23.8'), Decimal('129.0')], [Decimal('24.4'), Decimal('128.9')], [Decimal('25.3'), Decimal('128.5')], [Decimal('26.1'), Decimal('128.5')], [Decimal('27.0'), Decimal('127.7')], [Decimal('28.2'), Decimal('127.4')], [Decimal('28.4'), Decimal('127.2')], [Decimal('28.8'), Decimal('127.0')], [Decimal('29.3'), Decimal('127.1')], [Decimal('29.7'), Decimal('127.4')], [Decimal('30.1'), Decimal('128.1')], [Decimal('30.6'), Decimal('128.6')], [Decimal('31.0'), Decimal('129.3')], [Decimal('31.3'), Decimal('130.3')], [Decimal('32.0'), Decimal('131.6')], [Decimal('33.0'), Decimal('132.9')], [Decimal('33.9'), Decimal('134.2')], [Decimal('34.5'), Decimal('135.6')], [Decimal('36.7'), Decimal('139.5')], [Decimal('39.6'), Decimal('143.2')]]\n"
     ]
    }
   ],
   "source": [
    "#데이터 전처리\n",
    "typ_feat = []\n",
    "typ_lang = []\n",
    "\n",
    "for name in typ_name:\n",
    "    sql = \" SELECT * from \" + name\n",
    "    cursor.execute(sql)\n",
    "    result = cursor.fetchall()\n",
    "    for row_data in result:\n",
    "        typ_lang.append([row_data[1], row_data[2]])\n",
    "        typ_feat.append([row_data[3], row_data[4], row_data[5]])\n",
    "\n",
    "#typ_feat : 수온, 풍향, 풍속의 feature들 x_data\n",
    "print(typ_feat)\n",
    "\n",
    "#typ_lang : 대한민국 역대 태풍들의 위, 경도 y_data\n",
    "print(typ_lang)"
   ]
  },
  {
   "cell_type": "code",
   "execution_count": 4,
   "metadata": {},
   "outputs": [
    {
     "name": "stdout",
     "output_type": "stream",
     "text": [
      "784\n",
      "[[0.2857143  0.13872832 0.84939766]\n",
      " [0.3        0.15606935 0.8734939 ]\n",
      " [0.35714287 0.15606935 0.8734939 ]\n",
      " ...\n",
      " [0.87142855 0.11560693 0.        ]\n",
      " [0.85714287 0.15606935 0.01807231]\n",
      " [0.9        0.29479766 0.03614461]]\n",
      "784\n",
      "[[ 15.8 158.1]\n",
      " [ 15.6 156.4]\n",
      " [ 15.2 154.6]\n",
      " ...\n",
      " [ 34.5 135.6]\n",
      " [ 36.7 139.5]\n",
      " [ 39.6 143.2]]\n"
     ]
    }
   ],
   "source": [
    "#MinMaxScaler으로 feature 값을 0부터 1까지 변환\n",
    "typ_feat = np.asarray(typ_feat, dtype = np.float32)\n",
    "scaler = MinMaxScaler(feature_range=(0., 1.))\n",
    "typ_feat = scaler.fit_transform(typ_feat)\n",
    "print(len(typ_feat))\n",
    "print(typ_feat)\n",
    "\n",
    "typ_lang = np.asarray(typ_lang, dtype = np.float32)\n",
    "print(len(typ_lang))\n",
    "print(typ_lang)\n",
    "\n",
    "#train, value, test 값으로 나누기\n",
    "x_train = typ_feat[0:260]\n",
    "x_val = typ_feat[260:520]\n",
    "x_test = typ_feat[520:784]\n",
    "\n",
    "y_train = typ_lang[0:260]\n",
    "y_val = typ_lang[260:520]\n",
    "y_test = typ_lang[520:784]"
   ]
  },
  {
   "cell_type": "code",
   "execution_count": 5,
   "metadata": {},
   "outputs": [
    {
     "name": "stdout",
     "output_type": "stream",
     "text": [
      "784\n",
      "784\n"
     ]
    }
   ],
   "source": [
    "print(len(typ_lang))\n",
    "print(len(typ_feat))"
   ]
  },
  {
   "cell_type": "code",
   "execution_count": 11,
   "metadata": {},
   "outputs": [],
   "source": [
    "# 데이터셋 전처리\n",
    "# list 형태 바꾸기\n",
    "x_train = np.reshape(x_train, (-1, 3, 1))\n",
    "x_val = np.reshape(x_val, (-1, 3, 1))\n",
    "x_test = np.reshape(x_test, (-1, 3, 1))"
   ]
  },
  {
   "cell_type": "code",
   "execution_count": 12,
   "metadata": {},
   "outputs": [],
   "source": [
    "y_train = np.reshape(y_train, (-1, 2))\n",
    "y_val = np.reshape(y_train, (-1, 2))\n",
    "y_test = np.reshape(y_test, (-1, 2))"
   ]
  },
  {
   "cell_type": "code",
   "execution_count": 13,
   "metadata": {
    "scrolled": true
   },
   "outputs": [
    {
     "name": "stdout",
     "output_type": "stream",
     "text": [
      "(260, 3, 1)\n",
      "(260, 2)\n"
     ]
    }
   ],
   "source": [
    "print(x_train.shape)\n",
    "print(y_train.shape)"
   ]
  },
  {
   "cell_type": "code",
   "execution_count": 14,
   "metadata": {},
   "outputs": [
    {
     "name": "stdout",
     "output_type": "stream",
     "text": [
      "_________________________________________________________________\n",
      "Layer (type)                 Output Shape              Param #   \n",
      "=================================================================\n",
      "lstm_3 (LSTM)                (None, 3, 260)            272480    \n",
      "_________________________________________________________________\n",
      "lstm_4 (LSTM)                (None, 260)               541840    \n",
      "_________________________________________________________________\n",
      "dense_2 (Dense)              (None, 2)                 522       \n",
      "=================================================================\n",
      "Total params: 814,842\n",
      "Trainable params: 814,842\n",
      "Non-trainable params: 0\n",
      "_________________________________________________________________\n",
      "None\n"
     ]
    }
   ],
   "source": [
    "# 모델 선언\n",
    "data_dim = 1\n",
    "timesteps = 3\n",
    "\n",
    "# stacked lstm\n",
    "model = Sequential()\n",
    "model.add(LSTM(260, input_shape=(3, 1), return_sequences = True, activation = 'relu'))\n",
    "model.add(LSTM(260, activation = 'relu'))\n",
    "model.add(Dense(2,activation='relu'))\n",
    "print(model.summary())\n"
   ]
  },
  {
   "cell_type": "code",
   "execution_count": 16,
   "metadata": {
    "scrolled": true
   },
   "outputs": [
    {
     "name": "stdout",
     "output_type": "stream",
     "text": [
      "Train on 260 samples, validate on 260 samples\n",
      "Epoch 1/200\n",
      "260/260 [==============================] - 2s 9ms/step - loss: 9939.5671 - val_loss: 9939.5669\n",
      "Epoch 2/200\n",
      "260/260 [==============================] - 1s 2ms/step - loss: 9939.5670 - val_loss: 9939.5669\n",
      "Epoch 3/200\n",
      "260/260 [==============================] - 1s 2ms/step - loss: 9939.5673 - val_loss: 9939.5669\n",
      "Epoch 4/200\n",
      "260/260 [==============================] - 1s 2ms/step - loss: 9939.5670 - val_loss: 9939.5669\n",
      "Epoch 5/200\n",
      "260/260 [==============================] - 1s 2ms/step - loss: 9939.5670 - val_loss: 9939.5669\n",
      "Epoch 6/200\n",
      "260/260 [==============================] - 1s 2ms/step - loss: 9939.5672 - val_loss: 9939.5669\n",
      "Epoch 7/200\n",
      "260/260 [==============================] - 1s 2ms/step - loss: 9939.5672 - val_loss: 9939.5669\n",
      "Epoch 8/200\n",
      "260/260 [==============================] - 1s 2ms/step - loss: 9939.5671 - val_loss: 9939.5669\n",
      "Epoch 9/200\n",
      "260/260 [==============================] - 1s 2ms/step - loss: 9939.5671 - val_loss: 9939.5669\n",
      "Epoch 10/200\n",
      "260/260 [==============================] - 1s 2ms/step - loss: 9939.5669 - val_loss: 9939.5669\n",
      "Epoch 11/200\n",
      "260/260 [==============================] - 1s 2ms/step - loss: 9939.5670 - val_loss: 9939.5669\n",
      "Epoch 12/200\n",
      "260/260 [==============================] - 1s 2ms/step - loss: 9939.5671 - val_loss: 9939.5669\n",
      "Epoch 13/200\n",
      "260/260 [==============================] - 1s 2ms/step - loss: 9939.5670 - val_loss: 9939.5669\n",
      "Epoch 14/200\n",
      "260/260 [==============================] - 1s 2ms/step - loss: 9939.5670 - val_loss: 9939.5669\n",
      "Epoch 15/200\n",
      "260/260 [==============================] - 1s 2ms/step - loss: 9939.5671 - val_loss: 9939.5669\n",
      "Epoch 16/200\n",
      "260/260 [==============================] - 1s 2ms/step - loss: 9939.5671 - val_loss: 9939.5669\n",
      "Epoch 17/200\n",
      "260/260 [==============================] - 1s 2ms/step - loss: 9939.5672 - val_loss: 9939.5669\n",
      "Epoch 18/200\n",
      "260/260 [==============================] - 1s 2ms/step - loss: 9939.5671 - val_loss: 9939.5669\n",
      "Epoch 19/200\n",
      "260/260 [==============================] - 1s 2ms/step - loss: 9939.5672 - val_loss: 9939.5669\n",
      "Epoch 20/200\n",
      "260/260 [==============================] - 1s 2ms/step - loss: 9939.5672 - val_loss: 9939.5669\n",
      "Epoch 21/200\n",
      "260/260 [==============================] - 1s 2ms/step - loss: 9939.5671 - val_loss: 9939.5669\n",
      "Epoch 22/200\n",
      "260/260 [==============================] - 1s 2ms/step - loss: 9939.5669 - val_loss: 9939.5669\n",
      "Epoch 23/200\n",
      "260/260 [==============================] - 1s 2ms/step - loss: 9939.5670 - val_loss: 9939.5669\n",
      "Epoch 24/200\n",
      "260/260 [==============================] - 1s 2ms/step - loss: 9939.5671 - val_loss: 9939.5669\n",
      "Epoch 25/200\n",
      "260/260 [==============================] - 1s 2ms/step - loss: 9939.5672 - val_loss: 9939.5669\n",
      "Epoch 26/200\n",
      "260/260 [==============================] - 1s 2ms/step - loss: 9939.5670 - val_loss: 9939.5669\n",
      "Epoch 27/200\n",
      "260/260 [==============================] - 1s 2ms/step - loss: 9939.5672 - val_loss: 9939.5669\n",
      "Epoch 28/200\n",
      "260/260 [==============================] - 1s 2ms/step - loss: 9939.5669 - val_loss: 9939.5669\n",
      "Epoch 29/200\n",
      "260/260 [==============================] - 1s 2ms/step - loss: 9939.5671 - val_loss: 9939.5669\n",
      "Epoch 30/200\n",
      "260/260 [==============================] - 1s 2ms/step - loss: 9939.5672 - val_loss: 9939.5669\n",
      "Epoch 31/200\n",
      "260/260 [==============================] - 1s 2ms/step - loss: 9939.5672 - val_loss: 9939.5669\n",
      "Epoch 32/200\n",
      "260/260 [==============================] - 1s 2ms/step - loss: 9939.5671 - val_loss: 9939.5669\n",
      "Epoch 33/200\n",
      "260/260 [==============================] - 1s 2ms/step - loss: 9939.5672 - val_loss: 9939.5669\n",
      "Epoch 34/200\n",
      "260/260 [==============================] - 1s 2ms/step - loss: 9939.5671 - val_loss: 9939.5669\n",
      "Epoch 35/200\n",
      "260/260 [==============================] - 1s 2ms/step - loss: 9939.5672 - val_loss: 9939.5669\n",
      "Epoch 36/200\n",
      "260/260 [==============================] - 1s 2ms/step - loss: 9939.5672 - val_loss: 9939.5669\n",
      "Epoch 37/200\n",
      "260/260 [==============================] - 1s 2ms/step - loss: 9939.5671 - val_loss: 9939.5669\n",
      "Epoch 38/200\n",
      "260/260 [==============================] - 1s 2ms/step - loss: 9939.5670 - val_loss: 9939.5669\n",
      "Epoch 39/200\n",
      "260/260 [==============================] - 1s 2ms/step - loss: 9939.5671 - val_loss: 9939.5669\n",
      "Epoch 40/200\n",
      "260/260 [==============================] - 1s 2ms/step - loss: 9939.5671 - val_loss: 9939.5669\n",
      "Epoch 41/200\n",
      "260/260 [==============================] - 1s 2ms/step - loss: 9939.5671 - val_loss: 9939.5669\n",
      "Epoch 42/200\n",
      "260/260 [==============================] - 1s 2ms/step - loss: 9939.5670 - val_loss: 9939.5669\n",
      "Epoch 43/200\n",
      "260/260 [==============================] - 1s 2ms/step - loss: 9939.5672 - val_loss: 9939.5669\n",
      "Epoch 44/200\n",
      "260/260 [==============================] - 1s 2ms/step - loss: 9939.5671 - val_loss: 9939.5669\n",
      "Epoch 45/200\n",
      "260/260 [==============================] - 1s 2ms/step - loss: 9939.5672 - val_loss: 9939.5669\n",
      "Epoch 46/200\n",
      "260/260 [==============================] - 1s 2ms/step - loss: 9939.5670 - val_loss: 9939.5669\n",
      "Epoch 47/200\n",
      "260/260 [==============================] - 1s 2ms/step - loss: 9939.5671 - val_loss: 9939.5669\n",
      "Epoch 48/200\n",
      "260/260 [==============================] - 1s 2ms/step - loss: 9939.5670 - val_loss: 9939.5669\n",
      "Epoch 49/200\n",
      "260/260 [==============================] - 1s 2ms/step - loss: 9939.5672 - val_loss: 9939.5669\n",
      "Epoch 50/200\n",
      "260/260 [==============================] - 1s 2ms/step - loss: 9939.5671 - val_loss: 9939.5669\n",
      "Epoch 51/200\n",
      "260/260 [==============================] - 1s 2ms/step - loss: 9939.5671 - val_loss: 9939.5669\n",
      "Epoch 52/200\n",
      "260/260 [==============================] - 1s 2ms/step - loss: 9939.5670 - val_loss: 9939.5669\n",
      "Epoch 53/200\n",
      "260/260 [==============================] - 1s 2ms/step - loss: 9939.5673 - val_loss: 9939.5669\n",
      "Epoch 54/200\n",
      "260/260 [==============================] - 1s 2ms/step - loss: 9939.5672 - val_loss: 9939.5669\n",
      "Epoch 55/200\n",
      "260/260 [==============================] - 1s 2ms/step - loss: 9939.5671 - val_loss: 9939.5669\n",
      "Epoch 56/200\n",
      "260/260 [==============================] - 1s 2ms/step - loss: 9939.5670 - val_loss: 9939.5669\n",
      "Epoch 57/200\n",
      "260/260 [==============================] - 1s 2ms/step - loss: 9939.5671 - val_loss: 9939.5669\n",
      "Epoch 58/200\n",
      "260/260 [==============================] - 1s 2ms/step - loss: 9939.5670 - val_loss: 9939.5669\n",
      "Epoch 59/200\n",
      "260/260 [==============================] - 1s 2ms/step - loss: 9939.5672 - val_loss: 9939.5669\n",
      "Epoch 60/200\n",
      "260/260 [==============================] - 1s 2ms/step - loss: 9939.5672 - val_loss: 9939.5669\n",
      "Epoch 61/200\n",
      "260/260 [==============================] - 1s 2ms/step - loss: 9939.5672 - val_loss: 9939.5669\n",
      "Epoch 62/200\n",
      "260/260 [==============================] - 1s 2ms/step - loss: 9939.5672 - val_loss: 9939.5669\n",
      "Epoch 63/200\n",
      "260/260 [==============================] - 1s 2ms/step - loss: 9939.5671 - val_loss: 9939.5669\n",
      "Epoch 64/200\n",
      "260/260 [==============================] - 1s 2ms/step - loss: 9939.5672 - val_loss: 9939.5669\n",
      "Epoch 65/200\n",
      "260/260 [==============================] - 1s 2ms/step - loss: 9939.5671 - val_loss: 9939.5669\n",
      "Epoch 66/200\n",
      "260/260 [==============================] - 1s 2ms/step - loss: 9939.5670 - val_loss: 9939.5669\n",
      "Epoch 67/200\n",
      "260/260 [==============================] - 1s 2ms/step - loss: 9939.5672 - val_loss: 9939.5669\n",
      "Epoch 68/200\n",
      "260/260 [==============================] - 1s 2ms/step - loss: 9939.5670 - val_loss: 9939.5669\n",
      "Epoch 69/200\n",
      "260/260 [==============================] - 1s 2ms/step - loss: 9939.5671 - val_loss: 9939.5669\n",
      "Epoch 70/200\n",
      "260/260 [==============================] - 1s 2ms/step - loss: 9939.5671 - val_loss: 9939.5669\n",
      "Epoch 71/200\n",
      "260/260 [==============================] - 1s 2ms/step - loss: 9939.5671 - val_loss: 9939.5669\n",
      "Epoch 72/200\n",
      "260/260 [==============================] - 1s 2ms/step - loss: 9939.5670 - val_loss: 9939.5669\n",
      "Epoch 73/200\n",
      "260/260 [==============================] - 1s 2ms/step - loss: 9939.5671 - val_loss: 9939.5669\n",
      "Epoch 74/200\n",
      "260/260 [==============================] - 1s 2ms/step - loss: 9939.5670 - val_loss: 9939.5669\n",
      "Epoch 75/200\n",
      "260/260 [==============================] - 1s 2ms/step - loss: 9939.5670 - val_loss: 9939.5669\n",
      "Epoch 76/200\n"
     ]
    },
    {
     "name": "stdout",
     "output_type": "stream",
     "text": [
      "260/260 [==============================] - 1s 2ms/step - loss: 9939.5669 - val_loss: 9939.5669\n",
      "Epoch 77/200\n",
      "260/260 [==============================] - 1s 2ms/step - loss: 9939.5670 - val_loss: 9939.5669\n",
      "Epoch 78/200\n",
      "260/260 [==============================] - 1s 2ms/step - loss: 9939.5672 - val_loss: 9939.5669\n",
      "Epoch 79/200\n",
      "260/260 [==============================] - 1s 2ms/step - loss: 9939.5670 - val_loss: 9939.5669\n",
      "Epoch 80/200\n",
      "260/260 [==============================] - 1s 2ms/step - loss: 9939.5670 - val_loss: 9939.5669\n",
      "Epoch 81/200\n",
      "260/260 [==============================] - 1s 2ms/step - loss: 9939.5672 - val_loss: 9939.5669\n",
      "Epoch 82/200\n",
      "260/260 [==============================] - 1s 2ms/step - loss: 9939.5670 - val_loss: 9939.5669\n",
      "Epoch 83/200\n",
      "260/260 [==============================] - 1s 2ms/step - loss: 9939.5669 - val_loss: 9939.5669\n",
      "Epoch 84/200\n",
      "260/260 [==============================] - 1s 2ms/step - loss: 9939.5671 - val_loss: 9939.5669\n",
      "Epoch 85/200\n",
      "260/260 [==============================] - 1s 2ms/step - loss: 9939.5672 - val_loss: 9939.5669\n",
      "Epoch 86/200\n",
      "260/260 [==============================] - 1s 2ms/step - loss: 9939.5670 - val_loss: 9939.5669\n",
      "Epoch 87/200\n",
      "260/260 [==============================] - 1s 2ms/step - loss: 9939.5670 - val_loss: 9939.5669\n",
      "Epoch 88/200\n",
      "260/260 [==============================] - 1s 2ms/step - loss: 9939.5669 - val_loss: 9939.5669\n",
      "Epoch 89/200\n",
      "260/260 [==============================] - 1s 2ms/step - loss: 9939.5670 - val_loss: 9939.5669\n",
      "Epoch 90/200\n",
      "260/260 [==============================] - 1s 2ms/step - loss: 9939.5670 - val_loss: 9939.5669\n",
      "Epoch 91/200\n",
      "260/260 [==============================] - 1s 2ms/step - loss: 9939.5670 - val_loss: 9939.5669\n",
      "Epoch 92/200\n",
      "260/260 [==============================] - 1s 2ms/step - loss: 9939.5670 - val_loss: 9939.5669\n",
      "Epoch 93/200\n",
      "260/260 [==============================] - 1s 2ms/step - loss: 9939.5670 - val_loss: 9939.5669\n",
      "Epoch 94/200\n",
      "260/260 [==============================] - 1s 2ms/step - loss: 9939.5670 - val_loss: 9939.5669\n",
      "Epoch 95/200\n",
      "260/260 [==============================] - 1s 2ms/step - loss: 9939.5673 - val_loss: 9939.5669\n",
      "Epoch 96/200\n",
      "260/260 [==============================] - 1s 2ms/step - loss: 9939.5672 - val_loss: 9939.5669\n",
      "Epoch 97/200\n",
      "260/260 [==============================] - 1s 2ms/step - loss: 9939.5670 - val_loss: 9939.5669\n",
      "Epoch 98/200\n",
      "260/260 [==============================] - 1s 2ms/step - loss: 9939.5672 - val_loss: 9939.5669\n",
      "Epoch 99/200\n",
      "260/260 [==============================] - 1s 2ms/step - loss: 9939.5672 - val_loss: 9939.5669\n",
      "Epoch 100/200\n",
      "260/260 [==============================] - 1s 2ms/step - loss: 9939.5670 - val_loss: 9939.5669\n",
      "Epoch 101/200\n",
      "260/260 [==============================] - 1s 2ms/step - loss: 9939.5669 - val_loss: 9939.5669\n",
      "Epoch 102/200\n",
      "260/260 [==============================] - 1s 2ms/step - loss: 9939.5672 - val_loss: 9939.5669\n",
      "Epoch 103/200\n",
      "260/260 [==============================] - 1s 2ms/step - loss: 9939.5672 - val_loss: 9939.5669\n",
      "Epoch 104/200\n",
      "260/260 [==============================] - 1s 2ms/step - loss: 9939.5670 - val_loss: 9939.5669\n",
      "Epoch 105/200\n",
      "260/260 [==============================] - 1s 2ms/step - loss: 9939.5670 - val_loss: 9939.5669\n",
      "Epoch 106/200\n",
      "260/260 [==============================] - 1s 2ms/step - loss: 9939.5669 - val_loss: 9939.5669\n",
      "Epoch 107/200\n",
      "260/260 [==============================] - 1s 2ms/step - loss: 9939.5672 - val_loss: 9939.5669\n",
      "Epoch 108/200\n",
      "260/260 [==============================] - 1s 2ms/step - loss: 9939.5672 - val_loss: 9939.5669\n",
      "Epoch 109/200\n",
      "260/260 [==============================] - 1s 2ms/step - loss: 9939.5672 - val_loss: 9939.5669\n",
      "Epoch 110/200\n",
      "260/260 [==============================] - 1s 2ms/step - loss: 9939.5670 - val_loss: 9939.5669\n",
      "Epoch 111/200\n",
      "260/260 [==============================] - 1s 2ms/step - loss: 9939.5670 - val_loss: 9939.5669\n",
      "Epoch 112/200\n",
      "260/260 [==============================] - 1s 2ms/step - loss: 9939.5669 - val_loss: 9939.5669\n",
      "Epoch 113/200\n",
      "260/260 [==============================] - 1s 2ms/step - loss: 9939.5672 - val_loss: 9939.5669\n",
      "Epoch 114/200\n",
      "260/260 [==============================] - 1s 2ms/step - loss: 9939.5672 - val_loss: 9939.5669\n",
      "Epoch 115/200\n",
      "260/260 [==============================] - 1s 2ms/step - loss: 9939.5670 - val_loss: 9939.5669\n",
      "Epoch 116/200\n",
      "260/260 [==============================] - 1s 2ms/step - loss: 9939.5672 - val_loss: 9939.56694\n",
      "Epoch 117/200\n",
      "260/260 [==============================] - 1s 2ms/step - loss: 9939.5671 - val_loss: 9939.5669\n",
      "Epoch 118/200\n",
      "260/260 [==============================] - 1s 2ms/step - loss: 9939.5670 - val_loss: 9939.5669\n",
      "Epoch 119/200\n",
      "260/260 [==============================] - 1s 2ms/step - loss: 9939.5670 - val_loss: 9939.5669\n",
      "Epoch 120/200\n",
      "260/260 [==============================] - 1s 2ms/step - loss: 9939.5670 - val_loss: 9939.5669\n",
      "Epoch 121/200\n",
      "260/260 [==============================] - 1s 2ms/step - loss: 9939.5672 - val_loss: 9939.5669\n",
      "Epoch 122/200\n",
      "260/260 [==============================] - 1s 2ms/step - loss: 9939.5670 - val_loss: 9939.5669\n",
      "Epoch 123/200\n",
      "260/260 [==============================] - 1s 2ms/step - loss: 9939.5672 - val_loss: 9939.5669\n",
      "Epoch 124/200\n",
      "260/260 [==============================] - 1s 2ms/step - loss: 9939.5669 - val_loss: 9939.5669\n",
      "Epoch 125/200\n",
      "260/260 [==============================] - 1s 2ms/step - loss: 9939.5670 - val_loss: 9939.5669\n",
      "Epoch 126/200\n",
      "260/260 [==============================] - 1s 2ms/step - loss: 9939.5671 - val_loss: 9939.5669\n",
      "Epoch 127/200\n",
      "260/260 [==============================] - 1s 2ms/step - loss: 9939.5669 - val_loss: 9939.5669\n",
      "Epoch 128/200\n",
      "260/260 [==============================] - 1s 2ms/step - loss: 9939.5670 - val_loss: 9939.5669\n",
      "Epoch 129/200\n",
      "260/260 [==============================] - 1s 2ms/step - loss: 9939.5672 - val_loss: 9939.5669\n",
      "Epoch 130/200\n",
      "260/260 [==============================] - 1s 2ms/step - loss: 9939.5670 - val_loss: 9939.5669\n",
      "Epoch 131/200\n",
      "260/260 [==============================] - 1s 2ms/step - loss: 9939.5671 - val_loss: 9939.5669\n",
      "Epoch 132/200\n",
      "260/260 [==============================] - 1s 2ms/step - loss: 9939.5671 - val_loss: 9939.5669\n",
      "Epoch 133/200\n",
      "260/260 [==============================] - 1s 2ms/step - loss: 9939.5671 - val_loss: 9939.5669\n",
      "Epoch 134/200\n",
      "260/260 [==============================] - 1s 2ms/step - loss: 9939.5669 - val_loss: 9939.5669\n",
      "Epoch 135/200\n",
      "260/260 [==============================] - 1s 2ms/step - loss: 9939.5670 - val_loss: 9939.5669\n",
      "Epoch 136/200\n",
      "260/260 [==============================] - 1s 2ms/step - loss: 9939.5669 - val_loss: 9939.5669\n",
      "Epoch 137/200\n",
      "260/260 [==============================] - 1s 2ms/step - loss: 9939.5672 - val_loss: 9939.5669\n",
      "Epoch 138/200\n",
      "260/260 [==============================] - 1s 2ms/step - loss: 9939.5670 - val_loss: 9939.5669\n",
      "Epoch 139/200\n",
      "260/260 [==============================] - 1s 2ms/step - loss: 9939.5672 - val_loss: 9939.5669\n",
      "Epoch 140/200\n",
      "260/260 [==============================] - 1s 2ms/step - loss: 9939.5669 - val_loss: 9939.5669\n",
      "Epoch 141/200\n",
      "260/260 [==============================] - 1s 2ms/step - loss: 9939.5671 - val_loss: 9939.5669\n",
      "Epoch 142/200\n",
      "260/260 [==============================] - 1s 2ms/step - loss: 9939.5671 - val_loss: 9939.5669\n",
      "Epoch 143/200\n",
      "260/260 [==============================] - 1s 2ms/step - loss: 9939.5670 - val_loss: 9939.5669\n",
      "Epoch 144/200\n",
      "260/260 [==============================] - 1s 2ms/step - loss: 9939.5671 - val_loss: 9939.5669\n",
      "Epoch 145/200\n",
      "260/260 [==============================] - 1s 2ms/step - loss: 9939.5671 - val_loss: 9939.5669\n",
      "Epoch 146/200\n",
      "260/260 [==============================] - 1s 2ms/step - loss: 9939.5672 - val_loss: 9939.5669\n",
      "Epoch 147/200\n",
      "260/260 [==============================] - 1s 2ms/step - loss: 9939.5673 - val_loss: 9939.5669\n",
      "Epoch 148/200\n",
      "260/260 [==============================] - 1s 2ms/step - loss: 9939.5672 - val_loss: 9939.5669\n",
      "Epoch 149/200\n",
      "260/260 [==============================] - 1s 2ms/step - loss: 9939.5669 - val_loss: 9939.5669\n",
      "Epoch 150/200\n",
      "260/260 [==============================] - 1s 2ms/step - loss: 9939.5670 - val_loss: 9939.5669\n",
      "Epoch 151/200\n"
     ]
    },
    {
     "name": "stdout",
     "output_type": "stream",
     "text": [
      "260/260 [==============================] - 1s 2ms/step - loss: 9939.5671 - val_loss: 9939.5669\n",
      "Epoch 152/200\n",
      "260/260 [==============================] - 1s 2ms/step - loss: 9939.5670 - val_loss: 9939.5669\n",
      "Epoch 153/200\n",
      "260/260 [==============================] - 1s 2ms/step - loss: 9939.5670 - val_loss: 9939.5669\n",
      "Epoch 154/200\n",
      "260/260 [==============================] - 1s 2ms/step - loss: 9939.5670 - val_loss: 9939.5669\n",
      "Epoch 155/200\n",
      "260/260 [==============================] - 1s 2ms/step - loss: 9939.5672 - val_loss: 9939.5669\n",
      "Epoch 156/200\n",
      "260/260 [==============================] - 1s 2ms/step - loss: 9939.5670 - val_loss: 9939.5669\n",
      "Epoch 157/200\n",
      "260/260 [==============================] - 1s 2ms/step - loss: 9939.5670 - val_loss: 9939.5669\n",
      "Epoch 158/200\n",
      "260/260 [==============================] - 1s 2ms/step - loss: 9939.5670 - val_loss: 9939.5669\n",
      "Epoch 159/200\n",
      "260/260 [==============================] - 1s 2ms/step - loss: 9939.5670 - val_loss: 9939.5669\n",
      "Epoch 160/200\n",
      "260/260 [==============================] - 1s 2ms/step - loss: 9939.5669 - val_loss: 9939.5669\n",
      "Epoch 161/200\n",
      "260/260 [==============================] - 1s 2ms/step - loss: 9939.5672 - val_loss: 9939.5669\n",
      "Epoch 162/200\n",
      "260/260 [==============================] - 1s 2ms/step - loss: 9939.5670 - val_loss: 9939.5669\n",
      "Epoch 163/200\n",
      "260/260 [==============================] - 1s 2ms/step - loss: 9939.5671 - val_loss: 9939.5669\n",
      "Epoch 164/200\n",
      "260/260 [==============================] - 1s 2ms/step - loss: 9939.5668 - val_loss: 9939.5669\n",
      "Epoch 165/200\n",
      "260/260 [==============================] - 1s 2ms/step - loss: 9939.5669 - val_loss: 9939.5669\n",
      "Epoch 166/200\n",
      "260/260 [==============================] - 1s 2ms/step - loss: 9939.5671 - val_loss: 9939.5669\n",
      "Epoch 167/200\n",
      "260/260 [==============================] - 1s 2ms/step - loss: 9939.5670 - val_loss: 9939.5669\n",
      "Epoch 168/200\n",
      "260/260 [==============================] - 1s 2ms/step - loss: 9939.5671 - val_loss: 9939.5669\n",
      "Epoch 169/200\n",
      "260/260 [==============================] - 1s 2ms/step - loss: 9939.5671 - val_loss: 9939.5669\n",
      "Epoch 170/200\n",
      "260/260 [==============================] - 1s 2ms/step - loss: 9939.5671 - val_loss: 9939.5669\n",
      "Epoch 171/200\n",
      "260/260 [==============================] - 1s 2ms/step - loss: 9939.5671 - val_loss: 9939.5669\n",
      "Epoch 172/200\n",
      "260/260 [==============================] - 1s 2ms/step - loss: 9939.5672 - val_loss: 9939.5669\n",
      "Epoch 173/200\n",
      "260/260 [==============================] - 1s 2ms/step - loss: 9939.5670 - val_loss: 9939.5669\n",
      "Epoch 174/200\n",
      "260/260 [==============================] - 1s 2ms/step - loss: 9939.5669 - val_loss: 9939.5669\n",
      "Epoch 175/200\n",
      "260/260 [==============================] - 1s 2ms/step - loss: 9939.5670 - val_loss: 9939.5669\n",
      "Epoch 176/200\n",
      "260/260 [==============================] - 1s 2ms/step - loss: 9939.5671 - val_loss: 9939.5669\n",
      "Epoch 177/200\n",
      "260/260 [==============================] - 1s 2ms/step - loss: 9939.5672 - val_loss: 9939.5669\n",
      "Epoch 178/200\n",
      "260/260 [==============================] - 1s 2ms/step - loss: 9939.5671 - val_loss: 9939.5669\n",
      "Epoch 179/200\n",
      "260/260 [==============================] - 1s 2ms/step - loss: 9939.5670 - val_loss: 9939.5669\n",
      "Epoch 180/200\n",
      "260/260 [==============================] - 1s 2ms/step - loss: 9939.5672 - val_loss: 9939.5669\n",
      "Epoch 181/200\n",
      "260/260 [==============================] - 1s 2ms/step - loss: 9939.5672 - val_loss: 9939.5669\n",
      "Epoch 182/200\n",
      "260/260 [==============================] - 1s 2ms/step - loss: 9939.5671 - val_loss: 9939.5669\n",
      "Epoch 183/200\n",
      "260/260 [==============================] - 1s 2ms/step - loss: 9939.5672 - val_loss: 9939.5669\n",
      "Epoch 184/200\n",
      "260/260 [==============================] - 1s 2ms/step - loss: 9939.5670 - val_loss: 9939.5669\n",
      "Epoch 185/200\n",
      "260/260 [==============================] - 1s 2ms/step - loss: 9939.5672 - val_loss: 9939.5669\n",
      "Epoch 186/200\n",
      "260/260 [==============================] - 1s 2ms/step - loss: 9939.5671 - val_loss: 9939.5669\n",
      "Epoch 187/200\n",
      "260/260 [==============================] - 1s 2ms/step - loss: 9939.5672 - val_loss: 9939.5669\n",
      "Epoch 188/200\n",
      "260/260 [==============================] - 1s 2ms/step - loss: 9939.5671 - val_loss: 9939.5669\n",
      "Epoch 189/200\n",
      "260/260 [==============================] - 1s 2ms/step - loss: 9939.5673 - val_loss: 9939.5669\n",
      "Epoch 190/200\n",
      "260/260 [==============================] - 1s 2ms/step - loss: 9939.5671 - val_loss: 9939.5669\n",
      "Epoch 191/200\n",
      "260/260 [==============================] - 1s 2ms/step - loss: 9939.5670 - val_loss: 9939.5669\n",
      "Epoch 192/200\n",
      "260/260 [==============================] - 1s 2ms/step - loss: 9939.5670 - val_loss: 9939.5669\n",
      "Epoch 193/200\n",
      "260/260 [==============================] - 1s 2ms/step - loss: 9939.5672 - val_loss: 9939.5669\n",
      "Epoch 194/200\n",
      "260/260 [==============================] - 1s 2ms/step - loss: 9939.5670 - val_loss: 9939.5669\n",
      "Epoch 195/200\n",
      "260/260 [==============================] - 1s 2ms/step - loss: 9939.5672 - val_loss: 9939.5669\n",
      "Epoch 196/200\n",
      "260/260 [==============================] - 1s 2ms/step - loss: 9939.5671 - val_loss: 9939.5669\n",
      "Epoch 197/200\n",
      "260/260 [==============================] - 1s 2ms/step - loss: 9939.5671 - val_loss: 9939.5669\n",
      "Epoch 198/200\n",
      "260/260 [==============================] - 1s 2ms/step - loss: 9939.5672 - val_loss: 9939.5669\n",
      "Epoch 199/200\n",
      "260/260 [==============================] - 1s 2ms/step - loss: 9939.5671 - val_loss: 9939.5669\n",
      "Epoch 200/200\n",
      "260/260 [==============================] - 1s 2ms/step - loss: 9939.5669 - val_loss: 9939.5669\n"
     ]
    }
   ],
   "source": [
    "# 모델 학습과정 설정하기\n",
    "model.compile(loss='mean_squared_error', optimizer='adam')\n",
    "\n",
    "# 모델 학습시키기\n",
    "hist = model.fit(x_train, y_train, epochs=200, batch_size=10, validation_data=(x_val, y_val))\n",
    "#hist = model.fit(x_train,y_train,epochs=300,batch_size=10,validation_split=0.2)"
   ]
  },
  {
   "cell_type": "code",
   "execution_count": 23,
   "metadata": {},
   "outputs": [
    {
     "data": {
      "image/png": "[encoded data removed]",
      "text/plain": [
       "<Figure size 432x288 with 1 Axes>"
      ]
     },
     "metadata": {
      "needs_background": "light"
     },
     "output_type": "display_data"
    }
   ],
   "source": [
    "#학습 과정 살펴보기\n",
    "plt.plot(hist.history['loss'])\n",
    "plt.plot(hist.history['val_loss'])\n",
    "plt.ylim(0.0, 200.0)\n",
    "plt.ylabel('loss')\n",
    "plt.xlabel('epoch')\n",
    "plt.legend(['train', 'val'])\n",
    "plt.show()"
   ]
  },
  {
   "cell_type": "code",
   "execution_count": 24,
   "metadata": {
    "scrolled": true
   },
   "outputs": [
    {
     "name": "stdout",
     "output_type": "stream",
     "text": [
      "Train Score:  9939.567277644232\n",
      "Validataion Score:  9939.567277644232\n",
      "Test Score:  9213.996064157196\n"
     ]
    }
   ],
   "source": [
    "#모델 평가\n",
    "trainScore = model.evaluate(x_train, y_train, verbose=0)\n",
    "model.reset_states()\n",
    "print('Train Score: ', trainScore)\n",
    "valScore = model.evaluate(x_val, y_val, verbose=0)\n",
    "model.reset_states()\n",
    "print('Validataion Score: ', valScore)\n",
    "testScore = model.evaluate(x_test, y_test, verbose=0)\n",
    "model.reset_states()\n",
    "print('Test Score: ', testScore)"
   ]
  },
  {
   "cell_type": "code",
   "execution_count": 29,
   "metadata": {},
   "outputs": [
    {
     "ename": "InterfaceError",
     "evalue": "(0, '')",
     "output_type": "error",
     "traceback": [
      "\u001b[1;31m---------------------------------------------------------------------------\u001b[0m",
      "\u001b[1;31mInterfaceError\u001b[0m                            Traceback (most recent call last)",
      "\u001b[1;32m<ipython-input-29-18d3988a0fef>\u001b[0m in \u001b[0;36m<module>\u001b[1;34m\u001b[0m\n\u001b[0;32m      3\u001b[0m \u001b[1;32mfor\u001b[0m \u001b[0mname\u001b[0m \u001b[1;32min\u001b[0m \u001b[0mtyp_name\u001b[0m\u001b[1;33m:\u001b[0m\u001b[1;33m\u001b[0m\u001b[1;33m\u001b[0m\u001b[0m\n\u001b[0;32m      4\u001b[0m     \u001b[0msql\u001b[0m \u001b[1;33m=\u001b[0m \u001b[1;34m\" SELECT * from CHABA\"\u001b[0m\u001b[1;33m\u001b[0m\u001b[1;33m\u001b[0m\u001b[0m\n\u001b[1;32m----> 5\u001b[1;33m     \u001b[0mcursor\u001b[0m\u001b[1;33m.\u001b[0m\u001b[0mexecute\u001b[0m\u001b[1;33m(\u001b[0m\u001b[0msql\u001b[0m\u001b[1;33m)\u001b[0m\u001b[1;33m\u001b[0m\u001b[1;33m\u001b[0m\u001b[0m\n\u001b[0m\u001b[0;32m      6\u001b[0m     \u001b[0mresult\u001b[0m \u001b[1;33m=\u001b[0m \u001b[0mcursor\u001b[0m\u001b[1;33m.\u001b[0m\u001b[0mfetchall\u001b[0m\u001b[1;33m(\u001b[0m\u001b[1;33m)\u001b[0m\u001b[1;33m\u001b[0m\u001b[1;33m\u001b[0m\u001b[0m\n\u001b[0;32m      7\u001b[0m     \u001b[1;32mfor\u001b[0m \u001b[0mrow_data\u001b[0m \u001b[1;32min\u001b[0m \u001b[0mresult\u001b[0m\u001b[1;33m:\u001b[0m\u001b[1;33m\u001b[0m\u001b[1;33m\u001b[0m\u001b[0m\n",
      "\u001b[1;32m~\\AppData\\Local\\Continuum\\anaconda3\\envs\\typhoon\\lib\\site-packages\\pymysql\\cursors.py\u001b[0m in \u001b[0;36mexecute\u001b[1;34m(self, query, args)\u001b[0m\n\u001b[0;32m    168\u001b[0m         \u001b[0mquery\u001b[0m \u001b[1;33m=\u001b[0m \u001b[0mself\u001b[0m\u001b[1;33m.\u001b[0m\u001b[0mmogrify\u001b[0m\u001b[1;33m(\u001b[0m\u001b[0mquery\u001b[0m\u001b[1;33m,\u001b[0m \u001b[0margs\u001b[0m\u001b[1;33m)\u001b[0m\u001b[1;33m\u001b[0m\u001b[1;33m\u001b[0m\u001b[0m\n\u001b[0;32m    169\u001b[0m \u001b[1;33m\u001b[0m\u001b[0m\n\u001b[1;32m--> 170\u001b[1;33m         \u001b[0mresult\u001b[0m \u001b[1;33m=\u001b[0m \u001b[0mself\u001b[0m\u001b[1;33m.\u001b[0m\u001b[0m_query\u001b[0m\u001b[1;33m(\u001b[0m\u001b[0mquery\u001b[0m\u001b[1;33m)\u001b[0m\u001b[1;33m\u001b[0m\u001b[1;33m\u001b[0m\u001b[0m\n\u001b[0m\u001b[0;32m    171\u001b[0m         \u001b[0mself\u001b[0m\u001b[1;33m.\u001b[0m\u001b[0m_executed\u001b[0m \u001b[1;33m=\u001b[0m \u001b[0mquery\u001b[0m\u001b[1;33m\u001b[0m\u001b[1;33m\u001b[0m\u001b[0m\n\u001b[0;32m    172\u001b[0m         \u001b[1;32mreturn\u001b[0m \u001b[0mresult\u001b[0m\u001b[1;33m\u001b[0m\u001b[1;33m\u001b[0m\u001b[0m\n",
      "\u001b[1;32m~\\AppData\\Local\\Continuum\\anaconda3\\envs\\typhoon\\lib\\site-packages\\pymysql\\cursors.py\u001b[0m in \u001b[0;36m_query\u001b[1;34m(self, q)\u001b[0m\n\u001b[0;32m    326\u001b[0m         \u001b[0mself\u001b[0m\u001b[1;33m.\u001b[0m\u001b[0m_last_executed\u001b[0m \u001b[1;33m=\u001b[0m \u001b[0mq\u001b[0m\u001b[1;33m\u001b[0m\u001b[1;33m\u001b[0m\u001b[0m\n\u001b[0;32m    327\u001b[0m         \u001b[0mself\u001b[0m\u001b[1;33m.\u001b[0m\u001b[0m_clear_result\u001b[0m\u001b[1;33m(\u001b[0m\u001b[1;33m)\u001b[0m\u001b[1;33m\u001b[0m\u001b[1;33m\u001b[0m\u001b[0m\n\u001b[1;32m--> 328\u001b[1;33m         \u001b[0mconn\u001b[0m\u001b[1;33m.\u001b[0m\u001b[0mquery\u001b[0m\u001b[1;33m(\u001b[0m\u001b[0mq\u001b[0m\u001b[1;33m)\u001b[0m\u001b[1;33m\u001b[0m\u001b[1;33m\u001b[0m\u001b[0m\n\u001b[0m\u001b[0;32m    329\u001b[0m         \u001b[0mself\u001b[0m\u001b[1;33m.\u001b[0m\u001b[0m_do_get_result\u001b[0m\u001b[1;33m(\u001b[0m\u001b[1;33m)\u001b[0m\u001b[1;33m\u001b[0m\u001b[1;33m\u001b[0m\u001b[0m\n\u001b[0;32m    330\u001b[0m         \u001b[1;32mreturn\u001b[0m \u001b[0mself\u001b[0m\u001b[1;33m.\u001b[0m\u001b[0mrowcount\u001b[0m\u001b[1;33m\u001b[0m\u001b[1;33m\u001b[0m\u001b[0m\n",
      "\u001b[1;32m~\\AppData\\Local\\Continuum\\anaconda3\\envs\\typhoon\\lib\\site-packages\\pymysql\\connections.py\u001b[0m in \u001b[0;36mquery\u001b[1;34m(self, sql, unbuffered)\u001b[0m\n\u001b[0;32m    514\u001b[0m             \u001b[1;32melse\u001b[0m\u001b[1;33m:\u001b[0m\u001b[1;33m\u001b[0m\u001b[1;33m\u001b[0m\u001b[0m\n\u001b[0;32m    515\u001b[0m                 \u001b[0msql\u001b[0m \u001b[1;33m=\u001b[0m \u001b[0msql\u001b[0m\u001b[1;33m.\u001b[0m\u001b[0mencode\u001b[0m\u001b[1;33m(\u001b[0m\u001b[0mself\u001b[0m\u001b[1;33m.\u001b[0m\u001b[0mencoding\u001b[0m\u001b[1;33m,\u001b[0m \u001b[1;34m'surrogateescape'\u001b[0m\u001b[1;33m)\u001b[0m\u001b[1;33m\u001b[0m\u001b[1;33m\u001b[0m\u001b[0m\n\u001b[1;32m--> 516\u001b[1;33m         \u001b[0mself\u001b[0m\u001b[1;33m.\u001b[0m\u001b[0m_execute_command\u001b[0m\u001b[1;33m(\u001b[0m\u001b[0mCOMMAND\u001b[0m\u001b[1;33m.\u001b[0m\u001b[0mCOM_QUERY\u001b[0m\u001b[1;33m,\u001b[0m \u001b[0msql\u001b[0m\u001b[1;33m)\u001b[0m\u001b[1;33m\u001b[0m\u001b[1;33m\u001b[0m\u001b[0m\n\u001b[0m\u001b[0;32m    517\u001b[0m         \u001b[0mself\u001b[0m\u001b[1;33m.\u001b[0m\u001b[0m_affected_rows\u001b[0m \u001b[1;33m=\u001b[0m \u001b[0mself\u001b[0m\u001b[1;33m.\u001b[0m\u001b[0m_read_query_result\u001b[0m\u001b[1;33m(\u001b[0m\u001b[0munbuffered\u001b[0m\u001b[1;33m=\u001b[0m\u001b[0munbuffered\u001b[0m\u001b[1;33m)\u001b[0m\u001b[1;33m\u001b[0m\u001b[1;33m\u001b[0m\u001b[0m\n\u001b[0;32m    518\u001b[0m         \u001b[1;32mreturn\u001b[0m \u001b[0mself\u001b[0m\u001b[1;33m.\u001b[0m\u001b[0m_affected_rows\u001b[0m\u001b[1;33m\u001b[0m\u001b[1;33m\u001b[0m\u001b[0m\n",
      "\u001b[1;32m~\\AppData\\Local\\Continuum\\anaconda3\\envs\\typhoon\\lib\\site-packages\\pymysql\\connections.py\u001b[0m in \u001b[0;36m_execute_command\u001b[1;34m(self, command, sql)\u001b[0m\n\u001b[0;32m    748\u001b[0m         \"\"\"\n\u001b[0;32m    749\u001b[0m         \u001b[1;32mif\u001b[0m \u001b[1;32mnot\u001b[0m \u001b[0mself\u001b[0m\u001b[1;33m.\u001b[0m\u001b[0m_sock\u001b[0m\u001b[1;33m:\u001b[0m\u001b[1;33m\u001b[0m\u001b[1;33m\u001b[0m\u001b[0m\n\u001b[1;32m--> 750\u001b[1;33m             \u001b[1;32mraise\u001b[0m \u001b[0merr\u001b[0m\u001b[1;33m.\u001b[0m\u001b[0mInterfaceError\u001b[0m\u001b[1;33m(\u001b[0m\u001b[1;34m\"(0, '')\"\u001b[0m\u001b[1;33m)\u001b[0m\u001b[1;33m\u001b[0m\u001b[1;33m\u001b[0m\u001b[0m\n\u001b[0m\u001b[0;32m    751\u001b[0m \u001b[1;33m\u001b[0m\u001b[0m\n\u001b[0;32m    752\u001b[0m         \u001b[1;31m# If the last query was unbuffered, make sure it finishes before\u001b[0m\u001b[1;33m\u001b[0m\u001b[1;33m\u001b[0m\u001b[1;33m\u001b[0m\u001b[0m\n",
      "\u001b[1;31mInterfaceError\u001b[0m: (0, '')"
     ]
    }
   ],
   "source": [
    "chaba_xdata = []\n",
    "chaba_realdata = []\n",
    "for name in typ_name:\n",
    "    sql = \" SELECT * from CHABA\"\n",
    "    cursor.execute(sql)\n",
    "    result = cursor.fetchall()\n",
    "    for row_data in result:\n",
    "        chaba_realdata.append([row_data[1], row_data[2]])\n",
    "        chaba_xdata.append([row_data[3], row_data[4], row_data[5]])"
   ]
  },
  {
   "cell_type": "code",
   "execution_count": 27,
   "metadata": {},
   "outputs": [
    {
     "ename": "ValueError",
     "evalue": "Expected 2D array, got 1D array instead:\narray=[].\nReshape your data either using array.reshape(-1, 1) if your data has a single feature or array.reshape(1, -1) if it contains a single sample.",
     "output_type": "error",
     "traceback": [
      "\u001b[1;31m---------------------------------------------------------------------------\u001b[0m",
      "\u001b[1;31mValueError\u001b[0m                                Traceback (most recent call last)",
      "\u001b[1;32m<ipython-input-27-173da9f55f1b>\u001b[0m in \u001b[0;36m<module>\u001b[1;34m\u001b[0m\n\u001b[0;32m      2\u001b[0m \u001b[0mchaba_xdata\u001b[0m \u001b[1;33m=\u001b[0m \u001b[0mnp\u001b[0m\u001b[1;33m.\u001b[0m\u001b[0masarray\u001b[0m\u001b[1;33m(\u001b[0m\u001b[0mchaba_xdata\u001b[0m\u001b[1;33m,\u001b[0m \u001b[0mdtype\u001b[0m \u001b[1;33m=\u001b[0m \u001b[0mnp\u001b[0m\u001b[1;33m.\u001b[0m\u001b[0mfloat32\u001b[0m\u001b[1;33m)\u001b[0m\u001b[1;33m\u001b[0m\u001b[1;33m\u001b[0m\u001b[0m\n\u001b[0;32m      3\u001b[0m \u001b[0mscaler\u001b[0m \u001b[1;33m=\u001b[0m \u001b[0mMinMaxScaler\u001b[0m\u001b[1;33m(\u001b[0m\u001b[0mfeature_range\u001b[0m\u001b[1;33m=\u001b[0m\u001b[1;33m(\u001b[0m\u001b[1;36m0.\u001b[0m\u001b[1;33m,\u001b[0m \u001b[1;36m1.\u001b[0m\u001b[1;33m)\u001b[0m\u001b[1;33m)\u001b[0m\u001b[1;33m\u001b[0m\u001b[1;33m\u001b[0m\u001b[0m\n\u001b[1;32m----> 4\u001b[1;33m \u001b[0mchaba_xdata\u001b[0m \u001b[1;33m=\u001b[0m \u001b[0mscaler\u001b[0m\u001b[1;33m.\u001b[0m\u001b[0mfit_transform\u001b[0m\u001b[1;33m(\u001b[0m\u001b[0mchaba_xdata\u001b[0m\u001b[1;33m)\u001b[0m\u001b[1;33m\u001b[0m\u001b[1;33m\u001b[0m\u001b[0m\n\u001b[0m\u001b[0;32m      5\u001b[0m \u001b[0mchaba_xdata\u001b[0m \u001b[1;33m=\u001b[0m \u001b[0mnp\u001b[0m\u001b[1;33m.\u001b[0m\u001b[0mreshape\u001b[0m\u001b[1;33m(\u001b[0m\u001b[0mchaba_xdata\u001b[0m\u001b[1;33m,\u001b[0m \u001b[1;33m(\u001b[0m\u001b[1;33m-\u001b[0m\u001b[1;36m1\u001b[0m\u001b[1;33m,\u001b[0m \u001b[1;36m3\u001b[0m\u001b[1;33m,\u001b[0m \u001b[1;36m1\u001b[0m\u001b[1;33m)\u001b[0m\u001b[1;33m)\u001b[0m\u001b[1;33m\u001b[0m\u001b[1;33m\u001b[0m\u001b[0m\n\u001b[0;32m      6\u001b[0m \u001b[1;33m\u001b[0m\u001b[0m\n",
      "\u001b[1;32m~\\AppData\\Local\\Continuum\\anaconda3\\envs\\typhoon\\lib\\site-packages\\sklearn\\base.py\u001b[0m in \u001b[0;36mfit_transform\u001b[1;34m(self, X, y, **fit_params)\u001b[0m\n\u001b[0;32m    551\u001b[0m         \u001b[1;32mif\u001b[0m \u001b[0my\u001b[0m \u001b[1;32mis\u001b[0m \u001b[1;32mNone\u001b[0m\u001b[1;33m:\u001b[0m\u001b[1;33m\u001b[0m\u001b[1;33m\u001b[0m\u001b[0m\n\u001b[0;32m    552\u001b[0m             \u001b[1;31m# fit method of arity 1 (unsupervised transformation)\u001b[0m\u001b[1;33m\u001b[0m\u001b[1;33m\u001b[0m\u001b[1;33m\u001b[0m\u001b[0m\n\u001b[1;32m--> 553\u001b[1;33m             \u001b[1;32mreturn\u001b[0m \u001b[0mself\u001b[0m\u001b[1;33m.\u001b[0m\u001b[0mfit\u001b[0m\u001b[1;33m(\u001b[0m\u001b[0mX\u001b[0m\u001b[1;33m,\u001b[0m \u001b[1;33m**\u001b[0m\u001b[0mfit_params\u001b[0m\u001b[1;33m)\u001b[0m\u001b[1;33m.\u001b[0m\u001b[0mtransform\u001b[0m\u001b[1;33m(\u001b[0m\u001b[0mX\u001b[0m\u001b[1;33m)\u001b[0m\u001b[1;33m\u001b[0m\u001b[1;33m\u001b[0m\u001b[0m\n\u001b[0m\u001b[0;32m    554\u001b[0m         \u001b[1;32melse\u001b[0m\u001b[1;33m:\u001b[0m\u001b[1;33m\u001b[0m\u001b[1;33m\u001b[0m\u001b[0m\n\u001b[0;32m    555\u001b[0m             \u001b[1;31m# fit method of arity 2 (supervised transformation)\u001b[0m\u001b[1;33m\u001b[0m\u001b[1;33m\u001b[0m\u001b[1;33m\u001b[0m\u001b[0m\n",
      "\u001b[1;32m~\\AppData\\Local\\Continuum\\anaconda3\\envs\\typhoon\\lib\\site-packages\\sklearn\\preprocessing\\data.py\u001b[0m in \u001b[0;36mfit\u001b[1;34m(self, X, y)\u001b[0m\n\u001b[0;32m    323\u001b[0m         \u001b[1;31m# Reset internal state before fitting\u001b[0m\u001b[1;33m\u001b[0m\u001b[1;33m\u001b[0m\u001b[1;33m\u001b[0m\u001b[0m\n\u001b[0;32m    324\u001b[0m         \u001b[0mself\u001b[0m\u001b[1;33m.\u001b[0m\u001b[0m_reset\u001b[0m\u001b[1;33m(\u001b[0m\u001b[1;33m)\u001b[0m\u001b[1;33m\u001b[0m\u001b[1;33m\u001b[0m\u001b[0m\n\u001b[1;32m--> 325\u001b[1;33m         \u001b[1;32mreturn\u001b[0m \u001b[0mself\u001b[0m\u001b[1;33m.\u001b[0m\u001b[0mpartial_fit\u001b[0m\u001b[1;33m(\u001b[0m\u001b[0mX\u001b[0m\u001b[1;33m,\u001b[0m \u001b[0my\u001b[0m\u001b[1;33m)\u001b[0m\u001b[1;33m\u001b[0m\u001b[1;33m\u001b[0m\u001b[0m\n\u001b[0m\u001b[0;32m    326\u001b[0m \u001b[1;33m\u001b[0m\u001b[0m\n\u001b[0;32m    327\u001b[0m     \u001b[1;32mdef\u001b[0m \u001b[0mpartial_fit\u001b[0m\u001b[1;33m(\u001b[0m\u001b[0mself\u001b[0m\u001b[1;33m,\u001b[0m \u001b[0mX\u001b[0m\u001b[1;33m,\u001b[0m \u001b[0my\u001b[0m\u001b[1;33m=\u001b[0m\u001b[1;32mNone\u001b[0m\u001b[1;33m)\u001b[0m\u001b[1;33m:\u001b[0m\u001b[1;33m\u001b[0m\u001b[1;33m\u001b[0m\u001b[0m\n",
      "\u001b[1;32m~\\AppData\\Local\\Continuum\\anaconda3\\envs\\typhoon\\lib\\site-packages\\sklearn\\preprocessing\\data.py\u001b[0m in \u001b[0;36mpartial_fit\u001b[1;34m(self, X, y)\u001b[0m\n\u001b[0;32m    351\u001b[0m         X = check_array(X, copy=self.copy,\n\u001b[0;32m    352\u001b[0m                         \u001b[0mestimator\u001b[0m\u001b[1;33m=\u001b[0m\u001b[0mself\u001b[0m\u001b[1;33m,\u001b[0m \u001b[0mdtype\u001b[0m\u001b[1;33m=\u001b[0m\u001b[0mFLOAT_DTYPES\u001b[0m\u001b[1;33m,\u001b[0m\u001b[1;33m\u001b[0m\u001b[1;33m\u001b[0m\u001b[0m\n\u001b[1;32m--> 353\u001b[1;33m                         force_all_finite=\"allow-nan\")\n\u001b[0m\u001b[0;32m    354\u001b[0m \u001b[1;33m\u001b[0m\u001b[0m\n\u001b[0;32m    355\u001b[0m         \u001b[0mdata_min\u001b[0m \u001b[1;33m=\u001b[0m \u001b[0mnp\u001b[0m\u001b[1;33m.\u001b[0m\u001b[0mnanmin\u001b[0m\u001b[1;33m(\u001b[0m\u001b[0mX\u001b[0m\u001b[1;33m,\u001b[0m \u001b[0maxis\u001b[0m\u001b[1;33m=\u001b[0m\u001b[1;36m0\u001b[0m\u001b[1;33m)\u001b[0m\u001b[1;33m\u001b[0m\u001b[1;33m\u001b[0m\u001b[0m\n",
      "\u001b[1;32m~\\AppData\\Local\\Continuum\\anaconda3\\envs\\typhoon\\lib\\site-packages\\sklearn\\utils\\validation.py\u001b[0m in \u001b[0;36mcheck_array\u001b[1;34m(array, accept_sparse, accept_large_sparse, dtype, order, copy, force_all_finite, ensure_2d, allow_nd, ensure_min_samples, ensure_min_features, warn_on_dtype, estimator)\u001b[0m\n\u001b[0;32m    519\u001b[0m                     \u001b[1;34m\"Reshape your data either using array.reshape(-1, 1) if \"\u001b[0m\u001b[1;33m\u001b[0m\u001b[1;33m\u001b[0m\u001b[0m\n\u001b[0;32m    520\u001b[0m                     \u001b[1;34m\"your data has a single feature or array.reshape(1, -1) \"\u001b[0m\u001b[1;33m\u001b[0m\u001b[1;33m\u001b[0m\u001b[0m\n\u001b[1;32m--> 521\u001b[1;33m                     \"if it contains a single sample.\".format(array))\n\u001b[0m\u001b[0;32m    522\u001b[0m \u001b[1;33m\u001b[0m\u001b[0m\n\u001b[0;32m    523\u001b[0m         \u001b[1;31m# in the future np.flexible dtypes will be handled like object dtypes\u001b[0m\u001b[1;33m\u001b[0m\u001b[1;33m\u001b[0m\u001b[1;33m\u001b[0m\u001b[0m\n",
      "\u001b[1;31mValueError\u001b[0m: Expected 2D array, got 1D array instead:\narray=[].\nReshape your data either using array.reshape(-1, 1) if your data has a single feature or array.reshape(1, -1) if it contains a single sample."
     ]
    }
   ],
   "source": [
    "#데이터 전처리\n",
    "chaba_xdata = np.asarray(chaba_xdata, dtype = np.float32)\n",
    "scaler = MinMaxScaler(feature_range=(0., 1.))\n",
    "chaba_xdata = scaler.fit_transform(chaba_xdata)\n",
    "chaba_xdata = np.reshape(chaba_xdata, (-1, 3, 1))\n",
    "\n",
    "chaba_realdata = np.reshape(chaba_realdata, (-1, 2))"
   ]
  },
  {
   "cell_type": "code",
   "execution_count": 21,
   "metadata": {},
   "outputs": [
    {
     "data": {
      "image/png": "[encoded data removed]",
      "text/plain": [
       "<Figure size 432x288 with 1 Axes>"
      ]
     },
     "metadata": {
      "needs_background": "light"
     },
     "output_type": "display_data"
    },
    {
     "name": "stdout",
     "output_type": "stream",
     "text": [
      "[[0. 0.]\n",
      " [0. 0.]\n",
      " [0. 0.]\n",
      " ...\n",
      " [0. 0.]\n",
      " [0. 0.]\n",
      " [0. 0.]]\n",
      "[[Decimal('15.8') Decimal('158.1')]\n",
      " [Decimal('15.6') Decimal('156.4')]\n",
      " [Decimal('15.2') Decimal('154.6')]\n",
      " ...\n",
      " [Decimal('35.9') Decimal('131.0')]\n",
      " [Decimal('37.9') Decimal('136.6')]\n",
      " [Decimal('42.2') Decimal('141.8')]]\n"
     ]
    }
   ],
   "source": [
    "yhat = model.predict(chaba_xdata, verbose = 0)\n",
    "\n",
    "plt.plot(chaba_realdata, label = \"real\")\n",
    "plt.plot(yhat,label=\"predcition\")\n",
    "plt.legend()\n",
    "plt.show()\n",
    "print(yhat)\n",
    "print(chaba_realdata)"
   ]
  },
  {
   "cell_type": "code",
   "execution_count": 22,
   "metadata": {},
   "outputs": [],
   "source": [
    "db.close()"
   ]
  },
  {
   "cell_type": "code",
   "execution_count": null,
   "metadata": {},
   "outputs": [],
   "source": []
  }
 ],
 "metadata": {
  "kernelspec": {
   "display_name": "Python 3",
   "language": "python",
   "name": "python3"
  },
  "language_info": {
   "codemirror_mode": {
    "name": "ipython",
    "version": 3
   },
   "file_extension": ".py",
   "mimetype": "text/x-python",
   "name": "python",
   "nbconvert_exporter": "python",
   "pygments_lexer": "ipython3",
   "version": "3.6.8"
  }
 },
 "nbformat": 4,
 "nbformat_minor": 2
}
