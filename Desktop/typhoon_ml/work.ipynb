{
 "cells": [
  {
   "cell_type": "code",
   "execution_count": 31,
   "metadata": {},
   "outputs": [],
   "source": [
    "%matplotlib inline\n",
    "\n",
    "import matplotlib.pyplot as plt\n",
    "import tensorflow as tf\n",
    "import numpy as np\n",
    "import os\n",
    "from sklearn.preprocessing import MinMaxScaler"
   ]
  },
  {
   "cell_type": "code",
   "execution_count": 32,
   "metadata": {},
   "outputs": [],
   "source": [
    "from tensorflow.python.keras.models import Sequential\n",
    "from tensorflow.python.keras.layers import Input, Dense, GRU, Embedding\n",
    "from tensorflow.python.keras.optimizers import RMSprop\n",
    "from tensorflow.python.keras.callbacks import EarlyStopping, ModelCheckpoint, TensorBoard, ReduceLROnPlateau"
   ]
  },
  {
   "cell_type": "code",
   "execution_count": 33,
   "metadata": {},
   "outputs": [],
   "source": [
    "learning_rate = 0.9\n",
    "total_epoch = 30\n",
    "n_input = 2\n",
    "n_step = 28\n",
    "n_hidden = 10\n",
    "n_class = 2\n",
    "target_names = ['Langtitude', 'Longtitude']"
   ]
  },
  {
   "cell_type": "code",
   "execution_count": 34,
   "metadata": {},
   "outputs": [],
   "source": [
    "x_data = np.array([[110, 26.000, 29.000], [115,29.000,29.400], [135,29.000,29.400], [145,23.000,29.500], \n",
    "                  [145, 26.000, 29.500], [150, 27.000, 29.500], [160, 27.000, 29.500], [175, 26.000, 29.100],\n",
    "                  [145, 30.000, 29.500], [190, 25.000, 28.700], [165, 25.000, 28.600], [165, 27.000, 29.000],\n",
    "                  [170, 35.000, 29.400], [170, 44.000, 28.700], [190, 56.000, 28.900], [215, 61.000, 28.600],\n",
    "                  [210, 56.000, 28.900], [215, 57.000, 29.200], [205, 55.000, 29.000], [205, 52.000, 29.200],\n",
    "                  [185, 50.000, 29.100], [205, 56.000, 29.100], [200, 47.000, 28.700], [195, 49.000, 29.000], [195, 61.000, 29.000]]) #입력\n",
    "y_data = np.array([[15.8, 158.1],[15.6, 156.4], [15.2, 154.6], [14.7, 153.1], [14.3, 152.0], [14.4, 151.4],\n",
    "                  [14.5, 150.1], [14.4, 148.7], [14.5, 146.8], [13.8, 145.2], [14.5, 144.6], [14.4, 143.5],\n",
    "                  [14.3, 141.6], [14.2, 140.6], [13.6, 139.2], [13.5, 138.0], [13.7, 137.2], [14.8, 136.6],\n",
    "                  [15.5, 135.9], [16.1, 135.4], [16.8, 134.7], [17.7, 133.3], [18.5, 132.5], [19.7, 131.5], [20.8, 130.4]]) #출력\n",
    "tf.reset_default_graph()\n",
    "\n",
    "num_data = len(x_data)\n",
    "num_train = int(learning_rate * num_data)\n",
    "num_test = num_data - num_train\n",
    "\n",
    "x_train = x_data[0 : num_train]\n",
    "x_test = x_data[num_train : ]\n",
    "\n",
    "y_train = y_data[0: num_train]\n",
    "y_test = y_data[num_train :]\n",
    "\n",
    "#입력 신호의 수\n",
    "num_x_signals = x_data.shape[1]\n",
    "#출력 신호의 수\n",
    "num_y_signals = y_data.shape[1]"
   ]
  },
  {
   "cell_type": "code",
   "execution_count": 35,
   "metadata": {},
   "outputs": [
    {
     "name": "stdout",
     "output_type": "stream",
     "text": [
      "(22, 3)\n",
      "(22, 2)\n"
     ]
    }
   ],
   "source": [
    "#데이터들을 -1~1 사이로 조정\n",
    "x_scaler = MinMaxScaler()\n",
    "x_train_scaled = x_scaler.fit_transform(x_train)\n",
    "x_test_scaled = x_scaler.transform(x_test)\n",
    "\n",
    "y_scaler = MinMaxScaler()\n",
    "y_train_scaled = y_scaler.fit_transform(y_train)\n",
    "y_test_scaled = y_scaler.transform(y_test)\n",
    "\n",
    "print(x_train_scaled.shape)\n",
    "print(y_train_scaled.shape)"
   ]
  },
  {
   "cell_type": "code",
   "execution_count": 36,
   "metadata": {},
   "outputs": [],
   "source": [
    "#배치 사이즈 설정\n",
    "def batch_generator(batch_size, sequence_length): \n",
    "    while True:\n",
    "        x_shape = (batch_size, sequence_length, num_x_signals)\n",
    "        x_batch = np.zeros(shape = x_shape, dtype = np.float16)\n",
    "        \n",
    "        y_shape = (batch_size, sequence_length, num_y_signals)\n",
    "        y_batch = np.zeros(shape = y_shape, dtype = np.float16)\n",
    "        \n",
    "        for i in range(batch_size):\n",
    "            idx = np.random.randint(num_train - sequence_length)\n",
    "            \n",
    "            x_batch[i] = x_train_scaled[idx : idx+sequence_length]\n",
    "            y_batch[i] = y_train_scaled[idx : idx+sequence_length]\n",
    "            \n",
    "        yield(x_batch, y_batch)"
   ]
  },
  {
   "cell_type": "code",
   "execution_count": 37,
   "metadata": {},
   "outputs": [
    {
     "name": "stdout",
     "output_type": "stream",
     "text": [
      "(256, 15, 3)\n",
      "(256, 15, 2)\n"
     ]
    }
   ],
   "source": [
    "batch_size = 256\n",
    "sequence_length = 15\n",
    "#8 * 7 * 8\n",
    "\n",
    "generator = batch_generator(batch_size = batch_size, sequence_length = sequence_length)\n",
    "x_batch, y_batch = next(generator)\n",
    "\n",
    "print(x_batch.shape)\n",
    "print(y_batch.shape)"
   ]
  },
  {
   "cell_type": "code",
   "execution_count": 38,
   "metadata": {},
   "outputs": [
    {
     "data": {
      "text/plain": [
       "[<matplotlib.lines.Line2D at 0x24bdc4986a0>]"
      ]
     },
     "execution_count": 38,
     "metadata": {},
     "output_type": "execute_result"
    },
    {
     "data": {
      "image/png": "[encoded data removed]",
      "text/plain": [
       "<Figure size 432x288 with 1 Axes>"
      ]
     },
     "metadata": {
      "needs_background": "light"
     },
     "output_type": "display_data"
    }
   ],
   "source": [
    "#입력 신호 출력\n",
    "batch = 0\n",
    "signal = 0\n",
    "seq = x_batch[batch, :, signal]\n",
    "plt.plot(seq)"
   ]
  },
  {
   "cell_type": "code",
   "execution_count": 39,
   "metadata": {},
   "outputs": [
    {
     "data": {
      "text/plain": [
       "[<matplotlib.lines.Line2D at 0x24be27f9828>]"
      ]
     },
     "execution_count": 39,
     "metadata": {},
     "output_type": "execute_result"
    },
    {
     "data": {
      "image/png": "[encoded data removed]",
      "text/plain": [
       "<Figure size 432x288 with 1 Axes>"
      ]
     },
     "metadata": {
      "needs_background": "light"
     },
     "output_type": "display_data"
    }
   ],
   "source": [
    "#출력 신호 출력\n",
    "seq = y_batch[batch, :, signal]\n",
    "plt.plot(seq)"
   ]
  },
  {
   "cell_type": "code",
   "execution_count": 40,
   "metadata": {},
   "outputs": [],
   "source": [
    "#모델 테스트 시 성능이 향상되는 경우에만 가중치 저장\n",
    "validation_data = (np.expand_dims(x_test_scaled, axis = 0),\n",
    "                   np.expand_dims(y_test_scaled, axis = 0))"
   ]
  },
  {
   "cell_type": "code",
   "execution_count": 41,
   "metadata": {},
   "outputs": [
    {
     "name": "stdout",
     "output_type": "stream",
     "text": [
      "WARNING:tensorflow:From C:\\Users\\163023\\AppData\\Local\\Continuum\\anaconda3\\envs\\ml\\lib\\site-packages\\tensorflow\\python\\ops\\resource_variable_ops.py:435: colocate_with (from tensorflow.python.framework.ops) is deprecated and will be removed in a future version.\n",
      "Instructions for updating:\n",
      "Colocations handled automatically by placer.\n"
     ]
    }
   ],
   "source": [
    "#RNN 생성\n",
    "model = Sequential()\n",
    "model.add(GRU(units = 512, return_sequences = True, input_shape = (None, num_x_signals,)))\n",
    "model.add(Dense(num_y_signals, activation = 'sigmoid'))\n",
    "\n",
    "if False:\n",
    "    from tensorflow.python.keras.initializers import RandomUniform\n",
    "    init = RandomUniform(minval = -0.05, maxval = 0.05)\n",
    "    model.add(Dense(num_y_signals, activation = 'linear', kernel_initializer = init))"
   ]
  },
  {
   "cell_type": "code",
   "execution_count": 42,
   "metadata": {},
   "outputs": [],
   "source": [
    "#손실 함수\n",
    "warmup_steps = 50\n",
    "def loss_mse_warmup(y_true, y_pred):\n",
    "    y_true_slice = y_true[:, warmup_steps:, :]\n",
    "    y_pred_slice = y_pred[:, warmup_steps:, :]\n",
    "    loss = tf.losses.mean_squared_error(labels = y_true_slice, predictions = y_pred_slice)\n",
    "    loss_mean = tf.reduce_mean(loss)\n",
    "    return loss_mean"
   ]
  },
  {
   "cell_type": "code",
   "execution_count": 43,
   "metadata": {},
   "outputs": [
    {
     "name": "stdout",
     "output_type": "stream",
     "text": [
      "WARNING:tensorflow:From C:\\Users\\163023\\AppData\\Local\\Continuum\\anaconda3\\envs\\ml\\lib\\site-packages\\tensorflow\\python\\ops\\losses\\losses_impl.py:667: to_float (from tensorflow.python.ops.math_ops) is deprecated and will be removed in a future version.\n",
      "Instructions for updating:\n",
      "Use tf.cast instead.\n",
      "_________________________________________________________________\n",
      "Layer (type)                 Output Shape              Param #   \n",
      "=================================================================\n",
      "gru (GRU)                    (None, None, 512)         792576    \n",
      "_________________________________________________________________\n",
      "dense (Dense)                (None, None, 2)           1026      \n",
      "=================================================================\n",
      "Total params: 793,602\n",
      "Trainable params: 793,602\n",
      "Non-trainable params: 0\n",
      "_________________________________________________________________\n"
     ]
    }
   ],
   "source": [
    "#모델 컴파일\n",
    "optimizer = RMSprop(lr=1e-3)\n",
    "model.compile(loss=loss_mse_warmup, optimizer=optimizer)\n",
    "model.summary()"
   ]
  },
  {
   "cell_type": "code",
   "execution_count": 44,
   "metadata": {},
   "outputs": [],
   "source": [
    "#callback functions\n",
    "path_checkpoint = '23_checkpoint.keras'\n",
    "callback_checkpoint = ModelCheckpoint(filepath = path_checkpoint, monitor = 'val_loss', \n",
    "                                      verbose = 1, save_weights_only = True, save_best_only = True)\n",
    "callback_early_stopping = EarlyStopping(monitor = 'val_loss', patience = 5, verbose = 1)\n",
    "callback_tensorboard = TensorBoard(log_dir = './23_logs/',\n",
    "                                  histogram_freq = 0,\n",
    "                                  write_graph = False)\n",
    "callback_reduce_lr = ReduceLROnPlateau(monitor = 'val_loss',\n",
    "                                      factor = 0.1,\n",
    "                                      min_lr = 1e-4,\n",
    "                                      patience = 0,\n",
    "                                      verbose = 1)\n",
    "callbacks = [callback_early_stopping,\n",
    "            callback_checkpoint,\n",
    "            callback_tensorboard,\n",
    "            callback_reduce_lr]"
   ]
  },
  {
   "cell_type": "code",
   "execution_count": 45,
   "metadata": {
    "scrolled": true
   },
   "outputs": [
    {
     "name": "stdout",
     "output_type": "stream",
     "text": [
      "1/1 [==============================] - 0s 363ms/sample - loss: 0.0000e+00\n",
      "loss (test-set): 0.0\n"
     ]
    }
   ],
   "source": [
    "#성능 테스트\n",
    "result = model.evaluate(x=np.expand_dims(x_test_scaled, axis=0),\n",
    "                        y=np.expand_dims(y_test_scaled, axis=0))\n",
    "print(\"loss (test-set):\", result)"
   ]
  },
  {
   "cell_type": "code",
   "execution_count": 57,
   "metadata": {},
   "outputs": [],
   "source": [
    "#예측값과 실제 값을 그래프로 표현\n",
    "def plot_comparison(start_idx, length = 100, train = True):\n",
    "    if train:\n",
    "        x = x_train_scaled\n",
    "        y_true = y_train\n",
    "    else:\n",
    "        x = x_test_scaled\n",
    "        y_true = y_test\n",
    "    end_idx = start_idx + length\n",
    "    \n",
    "    y_true = y_true[start_idx:end_idx]\n",
    "    x = np.expand_dims(x, axis = 0)\n",
    "    y_pred = model.predict(x)\n",
    "    y_pred_rescaled = y_scaler.inverse_transform(y_pred[0])\n",
    "    \n",
    "    for signal in range(len(target_names)):\n",
    "        signal_pred = y_pred_rescaled[:, signal]\n",
    "        signal_true = y_true[:, signal]\n",
    "        plt.figure(figsize = (15, 5))\n",
    "        plt.plot(signal_true, label = 'true')\n",
    "        plt.plot(signal_pred, label = 'pred')\n",
    "        p = plt.axvspan(0, warmup_steps, facecolor = 'black', alpha = 0.15)\n",
    "        plt.ylabel(target_names[signal])\n",
    "        plt.legend()\n",
    "        plt.show()"
   ]
  },
  {
   "cell_type": "code",
   "execution_count": 58,
   "metadata": {},
   "outputs": [
    {
     "data": {
      "image/png": "[encoded data removed]",
      "text/plain": [
       "<Figure size 1080x360 with 1 Axes>"
      ]
     },
     "metadata": {
      "needs_background": "light"
     },
     "output_type": "display_data"
    },
    {
     "data": {
      "image/png": "[encoded data removed]",
      "text/plain": [
       "<Figure size 1080x360 with 1 Axes>"
      ]
     },
     "metadata": {
      "needs_background": "light"
     },
     "output_type": "display_data"
    }
   ],
   "source": [
    "plot_comparison(start_idx=100000, length=1000, train=True)"
   ]
  },
  {
   "cell_type": "code",
   "execution_count": null,
   "metadata": {},
   "outputs": [],
   "source": []
  }
 ],
 "metadata": {
  "kernelspec": {
   "display_name": "Python 3",
   "language": "python",
   "name": "python3"
  },
  "language_info": {
   "codemirror_mode": {
    "name": "ipython",
    "version": 3
   },
   "file_extension": ".py",
   "mimetype": "text/x-python",
   "name": "python",
   "nbconvert_exporter": "python",
   "pygments_lexer": "ipython3",
   "version": "3.7.3"
  }
 },
 "nbformat": 4,
 "nbformat_minor": 2
}
