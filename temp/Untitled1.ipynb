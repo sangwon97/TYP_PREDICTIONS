{
 "cells": [
  {
   "cell_type": "code",
   "execution_count": 2,
   "metadata": {},
   "outputs": [
    {
     "ename": "SyntaxError",
     "evalue": "invalid syntax (<ipython-input-2-f1eae35d4fcd>, line 44)",
     "output_type": "error",
     "traceback": [
      "\u001b[1;36m  File \u001b[1;32m\"<ipython-input-2-f1eae35d4fcd>\"\u001b[1;36m, line \u001b[1;32m44\u001b[0m\n\u001b[1;33m    print sess.run( pred, feed_dict)\u001b[0m\n\u001b[1;37m             ^\u001b[0m\n\u001b[1;31mSyntaxError\u001b[0m\u001b[1;31m:\u001b[0m invalid syntax\n"
     ]
    }
   ],
   "source": [
    "import tensorflow as tf\n",
    "import numpy as np\n",
    "\n",
    "\n",
    "#위, 경도\n",
    "t_time = 13\n",
    "langtitude = 44\n",
    "longtitude = 55\n",
    "\n",
    "# factor\n",
    "wind_direction = 11\n",
    "water_temp = 11\n",
    "wind_power = 33\n",
    "\n",
    "factor = np.array([[wind_direction, water_temp, wind_power], [22,22,55], [44,33,66], [66,44,88]])\n",
    "typhoon_name1 = np.array([[langtitude, longtitude]\n",
    "                          ,[13, 22], [44, 55], [66, 88]]) #데이터 넣기 25,66,88이 도착지임\n",
    "\n",
    "label = [[0], [1], [0], [0], [0]]\n",
    "\n",
    "steps = 1\n",
    "classes = 5\n",
    "batch_size = 2\n",
    "loss = 0.0\n",
    "\n",
    "x = tf.placeholder(tf.float32, shape=[batch_size, 20])\n",
    "y = tf.placeholder(tf.float32, shape=[classes,1])\n",
    "x_input = tf.split(0, steps, x)\n",
    "\n",
    "W = tf.Variable(tf.random_normal([classes, 2]))\n",
    "b = tf.Variable(tf.random_normal([classes,1]))\n",
    "\n",
    "lstm = tf.nn.rnn_cell.BasicLSTMCell(steps)\n",
    "output, state = tf.nn.rnn(lstm, x_input, dtype=tf.float32 )\n",
    "\n",
    "pred = tf.matmul(W, output[-1] ) + b\n",
    "\n",
    "loss = tf.reduce_mean(tf.nn.softmax_cross_entropy_with_logits(pred, y))\n",
    "optimizer = tf.train.AdamOptimizer(0.001).minimize(loss)\n",
    "\n",
    "correct_pred = tf.equal( tf.argmax(pred,1), tf.argmax(y, 1))\n",
    "accuracy = tf.reduce_mean(tf.cast(correct_pred, tf.float32))\n",
    "\n",
    "init = tf.initialize_all_variables()\n",
    "\n",
    "with tf.Session() as sess:\n",
    "    feed_dict = {x: data, y:label}\n",
    "    sess.run( init )\n",
    "\n",
    "    for i in range(10000):\n",
    "        sess.run(optimizer, feed_dict=feed_dict)\n",
    "        if i % 100 == 0 :\n",
    "            print sess.run( pred, feed_dict)\n",
    "            print sess.run(accuracy, feed_dict)\n",
    "\n",
    "    print sess.run(pred, feed_dict={x: data})"
   ]
  }
 ],
 "metadata": {
  "kernelspec": {
   "display_name": "Python 3",
   "language": "python",
   "name": "python3"
  },
  "language_info": {
   "codemirror_mode": {
    "name": "ipython",
    "version": 3
   },
   "file_extension": ".py",
   "mimetype": "text/x-python",
   "name": "python",
   "nbconvert_exporter": "python",
   "pygments_lexer": "ipython3",
   "version": "3.7.3"
  }
 },
 "nbformat": 4,
 "nbformat_minor": 2
}
